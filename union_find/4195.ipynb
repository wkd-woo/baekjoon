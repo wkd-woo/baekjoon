{
 "cells": [
  {
   "cell_type": "code",
   "execution_count": 30,
   "outputs": [
    {
     "ename": "ValueError",
     "evalue": "not enough values to unpack (expected 2, got 0)",
     "output_type": "error",
     "traceback": [
      "\u001B[1;31m---------------------------------------------------------------------------\u001B[0m",
      "\u001B[1;31mValueError\u001B[0m                                Traceback (most recent call last)",
      "Input \u001B[1;32mIn [30]\u001B[0m, in \u001B[0;36m<module>\u001B[1;34m\u001B[0m\n\u001B[0;32m     21\u001B[0m f \u001B[38;5;241m=\u001B[39m \u001B[38;5;28mint\u001B[39m(\u001B[38;5;28minput\u001B[39m())\n\u001B[0;32m     23\u001B[0m \u001B[38;5;28;01mfor\u001B[39;00m _ \u001B[38;5;129;01min\u001B[39;00m \u001B[38;5;28mrange\u001B[39m(f):\n\u001B[1;32m---> 24\u001B[0m     x, y \u001B[38;5;241m=\u001B[39m \u001B[38;5;28minput\u001B[39m()\u001B[38;5;241m.\u001B[39msplit()\n\u001B[0;32m     26\u001B[0m     \u001B[38;5;28;01mif\u001B[39;00m x \u001B[38;5;129;01mnot\u001B[39;00m \u001B[38;5;129;01min\u001B[39;00m parent:\n\u001B[0;32m     27\u001B[0m         parent[x] \u001B[38;5;241m=\u001B[39m x\n",
      "\u001B[1;31mValueError\u001B[0m: not enough values to unpack (expected 2, got 0)"
     ]
    }
   ],
   "source": [
    "def find(x):\n",
    "    if x == parent[x]:\n",
    "        return x\n",
    "    else:\n",
    "        p = find(parent[x])\n",
    "        parent[x] = p\n",
    "        return p\n",
    "\n",
    "\n",
    "def union(x, y):\n",
    "    x = find(x)\n",
    "    y = find(y)\n",
    "    if x != y:\n",
    "        parent[y] = x\n",
    "        number[x] += number[y]\n",
    "\n",
    "\n",
    "t = int(input())\n",
    "for _ in range(t):\n",
    "    parent, number = dict(), dict()\n",
    "    f = int(input())\n",
    "\n",
    "    for _ in range(f):\n",
    "        x, y = input().split()\n",
    "\n",
    "        if x not in parent:\n",
    "            parent[x] = x\n",
    "            number[x] = 1\n",
    "        if y not in parent:\n",
    "            parent[y] = y\n",
    "            number[y] = 1\n",
    "\n",
    "        union(x, y)\n",
    "        print(number[find(x)])"
   ],
   "metadata": {
    "collapsed": false,
    "pycharm": {
     "name": "#%%\n"
    }
   }
  },
  {
   "cell_type": "markdown",
   "source": [
    "# 유니온 파인드를 쓰지 않고 dfs를 썼을 때, 시간이 초과"
   ],
   "metadata": {
    "collapsed": false
   }
  },
  {
   "cell_type": "code",
   "execution_count": null,
   "outputs": [],
   "source": [
    "from collections import deque\n",
    "\n",
    "t = int(input())\n",
    "\n",
    "\n",
    "def bfs(graph, start_node):\n",
    "    visited = dict()\n",
    "    queue = deque()  # need_visit\n",
    "\n",
    "    queue.append(start_node)\n",
    "    count = 0\n",
    "    while queue:\n",
    "        count += 1\n",
    "        node = queue.popleft()  # deque로 선언하여 popleft()\n",
    "        if node not in visited:\n",
    "            visited[node] = True\n",
    "            queue.extend(graph[node])\n",
    "\n",
    "    return set(visited.keys())\n",
    "\n",
    "\n",
    "for _ in range(t):\n",
    "    f = int(input())\n",
    "    dic = dict()\n",
    "    for i in range(f):  # 100000 건\n",
    "        john, doe = input().split()\n",
    "        if john not in dic:\n",
    "            dic[john] = set()\n",
    "        if doe not in dic:\n",
    "            dic[doe] = set()\n",
    "\n",
    "        dic[john].add(doe)\n",
    "        dic[doe].add(john)\n",
    "\n",
    "        networks = bfs(dic, john).union(bfs(dic, doe))\n",
    "        print(len(networks))"
   ],
   "metadata": {
    "collapsed": false,
    "pycharm": {
     "name": "#%%\n"
    }
   }
  }
 ],
 "metadata": {
  "kernelspec": {
   "display_name": "Python 3",
   "language": "python",
   "name": "python3"
  },
  "language_info": {
   "codemirror_mode": {
    "name": "ipython",
    "version": 2
   },
   "file_extension": ".py",
   "mimetype": "text/x-python",
   "name": "python",
   "nbconvert_exporter": "python",
   "pygments_lexer": "ipython2",
   "version": "2.7.6"
  }
 },
 "nbformat": 4,
 "nbformat_minor": 0
}