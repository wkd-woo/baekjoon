{
 "cells": [
  {
   "cell_type": "code",
   "execution_count": 6,
   "outputs": [],
   "source": [
    "n = int(input())\n",
    "di = dict()\n",
    "result = []\n",
    "\n",
    "for _ in range(n):\n",
    "    c = input()\n",
    "    if c not in di:\n",
    "        di[c] = 0\n",
    "    di[c] += 1\n",
    "\n",
    "target = max(di.values())\n",
    "for key, value in di.items():\n",
    "    if value == target:\n",
    "        result.append(key)\n",
    "\n",
    "print(sorted(result)[0])"
   ],
   "metadata": {
    "collapsed": false,
    "pycharm": {
     "name": "#%%\n"
    }
   }
  }
 ],
 "metadata": {
  "kernelspec": {
   "display_name": "Python 3",
   "language": "python",
   "name": "python3"
  },
  "language_info": {
   "codemirror_mode": {
    "name": "ipython",
    "version": 2
   },
   "file_extension": ".py",
   "mimetype": "text/x-python",
   "name": "python",
   "nbconvert_exporter": "python",
   "pygments_lexer": "ipython2",
   "version": "2.7.6"
  }
 },
 "nbformat": 4,
 "nbformat_minor": 0
}