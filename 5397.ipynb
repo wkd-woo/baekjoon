{
 "cells": [
  {
   "cell_type": "code",
   "execution_count": 1,
   "metadata": {},
   "outputs": [],
   "source": [
    "t = int(input())"
   ]
  },
  {
   "cell_type": "code",
   "execution_count": 2,
   "metadata": {},
   "outputs": [],
   "source": [
    "l = input()"
   ]
  },
  {
   "cell_type": "code",
   "execution_count": 14,
   "metadata": {},
   "outputs": [
    {
     "data": {
      "text/plain": [
       "'<<BP<A>>Cd-'"
      ]
     },
     "execution_count": 14,
     "metadata": {},
     "output_type": "execute_result"
    }
   ],
   "source": [
    "l = '<<BP<A>>Cd-'\n",
    "l"
   ]
  },
  {
   "cell_type": "code",
   "execution_count": 33,
   "metadata": {},
   "outputs": [],
   "source": [
    "stack = []\n",
    "cursor = 0"
   ]
  },
  {
   "cell_type": "code",
   "execution_count": 49,
   "metadata": {},
   "outputs": [
    {
     "name": "stdout",
     "output_type": "stream",
     "text": [
      "BAPC\n"
     ]
    }
   ],
   "source": [
    "\n",
    "t = int(input())\n",
    "for _ in range(t):\n",
    "    l = input()\n",
    "    stack = []\n",
    "    cursor = 0\n",
    "\n",
    "    for c in l:\n",
    "        if c == '>':\n",
    "            cursor += 1\n",
    "            if cursor > len(stack):\n",
    "                cursor = len(stack)\n",
    "        elif c == '<':\n",
    "            if cursor > 0:\n",
    "                cursor -= 1\n",
    "        elif c == '-':\n",
    "            if stack and cursor > 0:\n",
    "                stack = stack[:cursor - 1] + stack[cursor+1:]\n",
    "                cursor -= 1\n",
    "        else:\n",
    "            stack = stack[:cursor] + [c] + stack[cursor:]\n",
    "            cursor += 1\n",
    "    print(''.join(stack))"
   ]
  },
  {
   "cell_type": "code",
   "execution_count": 58,
   "metadata": {},
   "outputs": [
    {
     "name": "stdout",
     "output_type": "stream",
     "text": [
      "ThIsIsS3Cr3t\n"
     ]
    }
   ],
   "source": [
    "from collections import deque\n",
    "\n",
    "t = int(input())\n",
    "\n",
    "for _ in range(t):\n",
    "    left_stack = []\n",
    "    right_stack = deque()\n",
    "    l = input()\n",
    "    for c in l:\n",
    "        if c == '-':\n",
    "            if left_stack:\n",
    "                left_stack.pop()\n",
    "        elif c == '<':\n",
    "            if left_stack:\n",
    "                right_stack.appendleft(left_stack.pop())\n",
    "        elif c == '>':\n",
    "            if right_stack:\n",
    "                left_stack.append(right_stack.popleft())\n",
    "        else:\n",
    "            left_stack.append(c)\n",
    "    left_stack.extend(list(right_stack))\n",
    "    print(''.join(left_stack))"
   ]
  },
  {
   "cell_type": "code",
   "execution_count": 56,
   "metadata": {},
   "outputs": [
    {
     "data": {
      "text/plain": [
       "deque([])"
      ]
     },
     "execution_count": 56,
     "metadata": {},
     "output_type": "execute_result"
    }
   ],
   "source": [
    "right_stack"
   ]
  },
  {
   "cell_type": "code",
   "execution_count": 57,
   "metadata": {},
   "outputs": [
    {
     "data": {
      "text/plain": [
       "[]"
      ]
     },
     "execution_count": 57,
     "metadata": {},
     "output_type": "execute_result"
    }
   ],
   "source": [
    "left_stack"
   ]
  },
  {
   "cell_type": "code",
   "execution_count": null,
   "metadata": {},
   "outputs": [],
   "source": []
  }
 ],
 "metadata": {
  "kernelspec": {
   "display_name": "Python 3.9.7",
   "language": "python",
   "name": "python3"
  },
  "language_info": {
   "codemirror_mode": {
    "name": "ipython",
    "version": 3
   },
   "file_extension": ".py",
   "mimetype": "text/x-python",
   "name": "python",
   "nbconvert_exporter": "python",
   "pygments_lexer": "ipython3",
   "version": "3.9.7"
  },
  "orig_nbformat": 4,
  "vscode": {
   "interpreter": {
    "hash": "74e9318079203a09f5832b2cff9944cf32c1cf832619b9f7664d6003dabd135d"
   }
  }
 },
 "nbformat": 4,
 "nbformat_minor": 2
}