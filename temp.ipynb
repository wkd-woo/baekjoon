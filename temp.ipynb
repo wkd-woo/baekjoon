{
 "cells": [],
 "metadata": {
  "kernelspec": {
   "display_name": "Python 3.8.6 ('venv': venv)",
   "language": "python",
   "name": "python3"
  },
  "language_info": {
   "codemirror_mode": {
    "name": "ipython",
    "version": 3
   },
   "file_extension": ".py",
   "mimetype": "text/x-python",
   "name": "python",
   "nbconvert_exporter": "python",
   "pygments_lexer": "ipython3",
   "version": "3.8.6"
  },
  "vscode": {
   "interpreter": {
    "hash": "55620e4411dedaced3d02f7a91a55b88db08010c67aa36ab19ca3c34a530be0f"
   }
  }
 },
 "nbformat": 4,
 "nbformat_minor": 0
}
