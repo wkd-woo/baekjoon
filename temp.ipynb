{
 "cells": [
  {
   "cell_type": "markdown",
   "source": [
    "2098"
   ],
   "metadata": {
    "collapsed": false,
    "pycharm": {
     "name": "#%% md\n"
    }
   },
   "outputs": []
  },
  {
   "cell_type": "code",
   "execution_count": 188,
   "outputs": [],
   "source": [
    "N = int(input())\n",
    "costs = []\n",
    "for _ in range(N):\n",
    "    costs.append(list(map(int, (input().split()))))"
   ],
   "metadata": {
    "collapsed": false,
    "pycharm": {
     "name": "#%%\n"
    }
   }
  },
  {
   "cell_type": "code",
   "execution_count": 189,
   "outputs": [],
   "source": [
    "graph = {i: [] for i in range(N)}"
   ],
   "metadata": {
    "collapsed": false,
    "pycharm": {
     "name": "#%%\n"
    }
   }
  },
  {
   "cell_type": "code",
   "execution_count": 192,
   "outputs": [],
   "source": [
    "for r in range(N):\n",
    "    for c in range(N):\n",
    "        if costs[r][c]:\n",
    "            graph[r].append(c)"
   ],
   "metadata": {
    "collapsed": false,
    "pycharm": {
     "name": "#%%\n"
    }
   }
  },
  {
   "cell_type": "code",
   "execution_count": 195,
   "outputs": [],
   "source": [
    "def dfs(graph, node, dist, visited):\n",
    "    if not graph[node]:\n",
    "        return visited\n",
    "\n",
    "    for nxt_node, nxt_dist in graph[node]:\n",
    "        if nxt_node not in visited:\n",
    "            visited.append([nxt_node])\n",
    "            dfs(graph, nxt_node, dist + nxt_dist, visited)\n",
    "            visited.pop()"
   ],
   "metadata": {
    "collapsed": false,
    "pycharm": {
     "name": "#%%\n"
    }
   }
  },
  {
   "cell_type": "code",
   "execution_count": null,
   "outputs": [],
   "source": [
    "from copy import deepcopy\n",
    "\n",
    "for i in range(N):\n",
    "    tem_graph = deepcopy(graph)\n",
    "    dfs(tem_graph, i, )"
   ],
   "metadata": {
    "collapsed": false,
    "pycharm": {
     "name": "#%%\n"
    }
   }
  }
 ],
 "metadata": {
  "kernelspec": {
   "display_name": "Python 3",
   "language": "python",
   "name": "python3"
  },
  "language_info": {
   "codemirror_mode": {
    "name": "ipython",
    "version": 2
   },
   "file_extension": ".py",
   "mimetype": "text/x-python",
   "name": "python",
   "nbconvert_exporter": "python",
   "pygments_lexer": "ipython2",
   "version": "2.7.6"
  }
 },
 "nbformat": 4,
 "nbformat_minor": 0
}