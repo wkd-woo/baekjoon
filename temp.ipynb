{
 "cells": [
  {
   "cell_type": "markdown",
   "source": [],
   "metadata": {
    "collapsed": false,
    "pycharm": {
     "name": "#%% md\n"
    }
   },
   "outputs": []
  },
  {
   "cell_type": "code",
   "execution_count": null,
   "outputs": [],
   "source": [
    "n = int(input())\n",
    "\n",
    "tree = {i: [] for i in range(1, n + 1)}\n",
    "\n",
    "for _ in range(n):\n",
    "    u, v, w = map(int, input().split())\n",
    "    tree[u].append([v, w])\n",
    "    tree[v].append([u, w])"
   ],
   "metadata": {
    "collapsed": false,
    "pycharm": {
     "name": "#%%\n"
    }
   }
  },
  {
   "cell_type": "code",
   "execution_count": null,
   "outputs": [],
   "source": [
    "k = int(input())\n",
    "l = list(map(int, input().split()))\n",
    "\n",
    "for i in range(k):\n",
    "    print(l[k])"
   ],
   "metadata": {
    "collapsed": false,
    "pycharm": {
     "name": "#%%\n"
    }
   }
  },
  {
   "cell_type": "code",
   "execution_count": null,
   "outputs": [],
   "source": [
    "class Node:\n",
    "    def __init__(self, value):\n",
    "        self.value = value\n",
    "        self.left = None\n",
    "        self.right = None\n",
    "\n",
    "\n",
    "\"\"\"\n",
    "in_s: start index of inorder\n",
    "in_e: end index of inorder\n",
    "p_idx: current index of preorder\n",
    "\"\"\"\n",
    "\n",
    "\n",
    "def build_tree(inorder, preorder, in_s, in_e):\n",
    "    global p_idx\n",
    "    if in_s > in_e:\n",
    "        return\n",
    "\n",
    "    node = Node(preorder[p_idx])\n",
    "    p_idx += 1\n",
    "\n",
    "    index = search(inorder, in_s, in_e, node.value)\n",
    "\n",
    "    node.left = build_tree(inorder, preorder, in_s, index - 1)\n",
    "    node.right = build_tree(inorder, preorder, index + 1, in_e)\n",
    "\n",
    "    return node\n",
    "\n",
    "\n",
    "# find index of target in inorder from start to end\n",
    "def search(inorder, start, end, target):\n",
    "    for i in range(start, end + 1):\n",
    "        if inorder[i] == target:\n",
    "            return i\n",
    "\n",
    "\n",
    "p_idx = 0\n",
    "\n",
    "\n",
    "def main():\n",
    "    inorder = ['D', 'B', 'E', 'A', 'F', 'C']\n",
    "    preorder = ['A', 'B', 'D', 'E', 'C', 'F']\n",
    "\n",
    "    root = build_tree(inorder, preorder, 0, len(inorder) - 1)\n",
    "\n",
    "    postorder_travlesal(root)\n",
    "\n",
    "\n",
    "def postorder_travlesal(node):\n",
    "    if node:\n",
    "        postorder_travlesal(node.left)\n",
    "        postorder_travlesal(node.right)\n",
    "        print(node.value, end=\" \")"
   ],
   "metadata": {
    "collapsed": false,
    "pycharm": {
     "name": "#%%\n"
    }
   }
  },
  {
   "cell_type": "code",
   "execution_count": 84,
   "outputs": [],
   "source": [
    "def buildTree(preorder, inorder):\n",
    "    if inorder:\n",
    "        # 전위순회에서 node = pop()하여 루트 정함\n",
    "        node = preorder.pop()\n",
    "        index = inorder.index(node)\n",
    "        tree[node][0] = buildTree(preorder, inorder[0:index])\n",
    "        tree[node][1] = buildTree(preorder, inorder[index + 1:])\n",
    "\n",
    "        return node\n",
    "\n",
    "\n",
    "def postorder(start):\n",
    "    if start:\n",
    "        if tree[start][0]:\n",
    "            postorder(tree[start][0])\n",
    "        if tree[start][1]:\n",
    "            postorder(tree[start][1])\n",
    "        print(start, end='')\n",
    "\n",
    "\n",
    "preorder, inorder = input().split()  # 전위순회\n",
    "preorder, inorder = list(preorder), list(inorder)\n",
    "preorder.reverse()\n",
    "tree = {each: [0, 0] for each in inorder}\n",
    "root = buildTree(preorder, inorder)\n",
    "postorder(root)"
   ],
   "metadata": {
    "collapsed": false,
    "pycharm": {
     "name": "#%%\n"
    }
   }
  },
  {
   "cell_type": "code",
   "execution_count": 85,
   "outputs": [
    {
     "data": {
      "text/plain": "{'A': [None, None],\n 'B': ['A', 'C'],\n 'C': [None, None],\n 'D': ['B', 'E'],\n 'E': [None, 'G'],\n 'F': [None, None],\n 'G': ['F', None]}"
     },
     "execution_count": 85,
     "metadata": {},
     "output_type": "execute_result"
    }
   ],
   "source": [
    "tree"
   ],
   "metadata": {
    "collapsed": false,
    "pycharm": {
     "name": "#%%\n"
    }
   }
  },
  {
   "cell_type": "code",
   "execution_count": 144,
   "outputs": [],
   "source": [
    "def preorder(start):\n",
    "    if start:\n",
    "        print(start, end='')\n",
    "        if tree[start][0]:\n",
    "            preorder(tree[start][0])\n",
    "        if tree[start][1]:\n",
    "            preorder(tree[start][1])\n",
    "\n",
    "\n",
    "def postorder(start):\n",
    "    if start:\n",
    "        if tree[start][0]:\n",
    "            postorder(tree[start][0])\n",
    "        if tree[start][1]:\n",
    "            postorder(tree[start][1])\n",
    "        print(start, end='')\n",
    "\n",
    "\n",
    "def inorder(start):\n",
    "    if start:\n",
    "        if tree[start][0]:\n",
    "            inorder(tree[start][0])\n",
    "        print(start, end='')\n",
    "        if tree[start][1]:\n",
    "            inorder(tree[start][1])"
   ],
   "metadata": {
    "collapsed": false,
    "pycharm": {
     "name": "#%%\n"
    }
   }
  },
  {
   "cell_type": "code",
   "execution_count": 145,
   "outputs": [
    {
     "name": "stdout",
     "output_type": "stream",
     "text": [
      "3\n",
      "3\n",
      "\n",
      "3"
     ]
    }
   ],
   "source": [
    "postorder(root)\n",
    "print()\n",
    "inorder(root)\n",
    "\n",
    "print()\n",
    "print()\n",
    "preorder(root)"
   ],
   "metadata": {
    "collapsed": false,
    "pycharm": {
     "name": "#%%\n"
    }
   }
  },
  {
   "cell_type": "code",
   "execution_count": 109,
   "outputs": [
    {
     "data": {
      "text/plain": "[1, 3, 2]"
     },
     "execution_count": 109,
     "metadata": {},
     "output_type": "execute_result"
    }
   ],
   "source": [
    "inorder"
   ],
   "metadata": {
    "collapsed": false,
    "pycharm": {
     "name": "#%%\n"
    }
   }
  },
  {
   "cell_type": "code",
   "execution_count": 202,
   "outputs": [
    {
     "ename": "IndexError",
     "evalue": "list index out of range",
     "output_type": "error",
     "traceback": [
      "\u001B[1;31m---------------------------------------------------------------------------\u001B[0m",
      "\u001B[1;31mIndexError\u001B[0m                                Traceback (most recent call last)",
      "Input \u001B[1;32mIn [202]\u001B[0m, in \u001B[0;36m<module>\u001B[1;34m\u001B[0m\n\u001B[0;32m     28\u001B[0m         \u001B[38;5;28;01mif\u001B[39;00m tree[start][\u001B[38;5;241m1\u001B[39m]:\n\u001B[0;32m     29\u001B[0m             preorder(tree[start][\u001B[38;5;241m1\u001B[39m])\n\u001B[1;32m---> 32\u001B[0m root \u001B[38;5;241m=\u001B[39m \u001B[43mbuildTree\u001B[49m\u001B[43m(\u001B[49m\u001B[38;5;28;43mlen\u001B[39;49m\u001B[43m(\u001B[49m\u001B[43mpostorder\u001B[49m\u001B[43m)\u001B[49m\u001B[43m \u001B[49m\u001B[38;5;241;43m-\u001B[39;49m\u001B[43m \u001B[49m\u001B[38;5;241;43m1\u001B[39;49m\u001B[43m,\u001B[49m\u001B[43m \u001B[49m\u001B[38;5;241;43m0\u001B[39;49m\u001B[43m,\u001B[49m\u001B[43m \u001B[49m\u001B[38;5;28;43mlen\u001B[39;49m\u001B[43m(\u001B[49m\u001B[43minorder\u001B[49m\u001B[43m)\u001B[49m\u001B[43m \u001B[49m\u001B[38;5;241;43m-\u001B[39;49m\u001B[43m \u001B[49m\u001B[38;5;241;43m1\u001B[39;49m\u001B[43m)\u001B[49m\n\u001B[0;32m     33\u001B[0m preorder(root)\n",
      "Input \u001B[1;32mIn [202]\u001B[0m, in \u001B[0;36mbuildTree\u001B[1;34m(p_idx, instart, inend)\u001B[0m\n\u001B[0;32m     16\u001B[0m p_idx \u001B[38;5;241m=\u001B[39m p_idx \u001B[38;5;241m-\u001B[39m \u001B[38;5;241m1\u001B[39m\n\u001B[0;32m     17\u001B[0m idx \u001B[38;5;241m=\u001B[39m inorder\u001B[38;5;241m.\u001B[39mindex(node)\n\u001B[1;32m---> 18\u001B[0m tree[node][\u001B[38;5;241m0\u001B[39m] \u001B[38;5;241m=\u001B[39m \u001B[43mbuildTree\u001B[49m\u001B[43m(\u001B[49m\u001B[43mp_idx\u001B[49m\u001B[43m,\u001B[49m\u001B[43m \u001B[49m\u001B[38;5;241;43m0\u001B[39;49m\u001B[43m,\u001B[49m\u001B[43m \u001B[49m\u001B[43midx\u001B[49m\u001B[43m \u001B[49m\u001B[38;5;241;43m-\u001B[39;49m\u001B[43m \u001B[49m\u001B[38;5;241;43m1\u001B[39;49m\u001B[43m)\u001B[49m\n\u001B[0;32m     19\u001B[0m tree[node][\u001B[38;5;241m1\u001B[39m] \u001B[38;5;241m=\u001B[39m buildTree(p_idx, idx \u001B[38;5;241m+\u001B[39m \u001B[38;5;241m1\u001B[39m, inend)\n\u001B[0;32m     20\u001B[0m \u001B[38;5;28;01mreturn\u001B[39;00m node\n",
      "Input \u001B[1;32mIn [202]\u001B[0m, in \u001B[0;36mbuildTree\u001B[1;34m(p_idx, instart, inend)\u001B[0m\n\u001B[0;32m     16\u001B[0m p_idx \u001B[38;5;241m=\u001B[39m p_idx \u001B[38;5;241m-\u001B[39m \u001B[38;5;241m1\u001B[39m\n\u001B[0;32m     17\u001B[0m idx \u001B[38;5;241m=\u001B[39m inorder\u001B[38;5;241m.\u001B[39mindex(node)\n\u001B[1;32m---> 18\u001B[0m tree[node][\u001B[38;5;241m0\u001B[39m] \u001B[38;5;241m=\u001B[39m \u001B[43mbuildTree\u001B[49m\u001B[43m(\u001B[49m\u001B[43mp_idx\u001B[49m\u001B[43m,\u001B[49m\u001B[43m \u001B[49m\u001B[38;5;241;43m0\u001B[39;49m\u001B[43m,\u001B[49m\u001B[43m \u001B[49m\u001B[43midx\u001B[49m\u001B[43m \u001B[49m\u001B[38;5;241;43m-\u001B[39;49m\u001B[43m \u001B[49m\u001B[38;5;241;43m1\u001B[39;49m\u001B[43m)\u001B[49m\n\u001B[0;32m     19\u001B[0m tree[node][\u001B[38;5;241m1\u001B[39m] \u001B[38;5;241m=\u001B[39m buildTree(p_idx, idx \u001B[38;5;241m+\u001B[39m \u001B[38;5;241m1\u001B[39m, inend)\n\u001B[0;32m     20\u001B[0m \u001B[38;5;28;01mreturn\u001B[39;00m node\n",
      "Input \u001B[1;32mIn [202]\u001B[0m, in \u001B[0;36mbuildTree\u001B[1;34m(p_idx, instart, inend)\u001B[0m\n\u001B[0;32m     17\u001B[0m idx \u001B[38;5;241m=\u001B[39m inorder\u001B[38;5;241m.\u001B[39mindex(node)\n\u001B[0;32m     18\u001B[0m tree[node][\u001B[38;5;241m0\u001B[39m] \u001B[38;5;241m=\u001B[39m buildTree(p_idx, \u001B[38;5;241m0\u001B[39m, idx \u001B[38;5;241m-\u001B[39m \u001B[38;5;241m1\u001B[39m)\n\u001B[1;32m---> 19\u001B[0m tree[node][\u001B[38;5;241m1\u001B[39m] \u001B[38;5;241m=\u001B[39m \u001B[43mbuildTree\u001B[49m\u001B[43m(\u001B[49m\u001B[43mp_idx\u001B[49m\u001B[43m,\u001B[49m\u001B[43m \u001B[49m\u001B[43midx\u001B[49m\u001B[43m \u001B[49m\u001B[38;5;241;43m+\u001B[39;49m\u001B[43m \u001B[49m\u001B[38;5;241;43m1\u001B[39;49m\u001B[43m,\u001B[49m\u001B[43m \u001B[49m\u001B[43minend\u001B[49m\u001B[43m)\u001B[49m\n\u001B[0;32m     20\u001B[0m \u001B[38;5;28;01mreturn\u001B[39;00m node\n",
      "Input \u001B[1;32mIn [202]\u001B[0m, in \u001B[0;36mbuildTree\u001B[1;34m(p_idx, instart, inend)\u001B[0m\n\u001B[0;32m     16\u001B[0m p_idx \u001B[38;5;241m=\u001B[39m p_idx \u001B[38;5;241m-\u001B[39m \u001B[38;5;241m1\u001B[39m\n\u001B[0;32m     17\u001B[0m idx \u001B[38;5;241m=\u001B[39m inorder\u001B[38;5;241m.\u001B[39mindex(node)\n\u001B[1;32m---> 18\u001B[0m tree[node][\u001B[38;5;241m0\u001B[39m] \u001B[38;5;241m=\u001B[39m \u001B[43mbuildTree\u001B[49m\u001B[43m(\u001B[49m\u001B[43mp_idx\u001B[49m\u001B[43m,\u001B[49m\u001B[43m \u001B[49m\u001B[38;5;241;43m0\u001B[39;49m\u001B[43m,\u001B[49m\u001B[43m \u001B[49m\u001B[43midx\u001B[49m\u001B[43m \u001B[49m\u001B[38;5;241;43m-\u001B[39;49m\u001B[43m \u001B[49m\u001B[38;5;241;43m1\u001B[39;49m\u001B[43m)\u001B[49m\n\u001B[0;32m     19\u001B[0m tree[node][\u001B[38;5;241m1\u001B[39m] \u001B[38;5;241m=\u001B[39m buildTree(p_idx, idx \u001B[38;5;241m+\u001B[39m \u001B[38;5;241m1\u001B[39m, inend)\n\u001B[0;32m     20\u001B[0m \u001B[38;5;28;01mreturn\u001B[39;00m node\n",
      "Input \u001B[1;32mIn [202]\u001B[0m, in \u001B[0;36mbuildTree\u001B[1;34m(p_idx, instart, inend)\u001B[0m\n\u001B[0;32m     16\u001B[0m p_idx \u001B[38;5;241m=\u001B[39m p_idx \u001B[38;5;241m-\u001B[39m \u001B[38;5;241m1\u001B[39m\n\u001B[0;32m     17\u001B[0m idx \u001B[38;5;241m=\u001B[39m inorder\u001B[38;5;241m.\u001B[39mindex(node)\n\u001B[1;32m---> 18\u001B[0m tree[node][\u001B[38;5;241m0\u001B[39m] \u001B[38;5;241m=\u001B[39m \u001B[43mbuildTree\u001B[49m\u001B[43m(\u001B[49m\u001B[43mp_idx\u001B[49m\u001B[43m,\u001B[49m\u001B[43m \u001B[49m\u001B[38;5;241;43m0\u001B[39;49m\u001B[43m,\u001B[49m\u001B[43m \u001B[49m\u001B[43midx\u001B[49m\u001B[43m \u001B[49m\u001B[38;5;241;43m-\u001B[39;49m\u001B[43m \u001B[49m\u001B[38;5;241;43m1\u001B[39;49m\u001B[43m)\u001B[49m\n\u001B[0;32m     19\u001B[0m tree[node][\u001B[38;5;241m1\u001B[39m] \u001B[38;5;241m=\u001B[39m buildTree(p_idx, idx \u001B[38;5;241m+\u001B[39m \u001B[38;5;241m1\u001B[39m, inend)\n\u001B[0;32m     20\u001B[0m \u001B[38;5;28;01mreturn\u001B[39;00m node\n",
      "Input \u001B[1;32mIn [202]\u001B[0m, in \u001B[0;36mbuildTree\u001B[1;34m(p_idx, instart, inend)\u001B[0m\n\u001B[0;32m     17\u001B[0m idx \u001B[38;5;241m=\u001B[39m inorder\u001B[38;5;241m.\u001B[39mindex(node)\n\u001B[0;32m     18\u001B[0m tree[node][\u001B[38;5;241m0\u001B[39m] \u001B[38;5;241m=\u001B[39m buildTree(p_idx, \u001B[38;5;241m0\u001B[39m, idx \u001B[38;5;241m-\u001B[39m \u001B[38;5;241m1\u001B[39m)\n\u001B[1;32m---> 19\u001B[0m tree[node][\u001B[38;5;241m1\u001B[39m] \u001B[38;5;241m=\u001B[39m \u001B[43mbuildTree\u001B[49m\u001B[43m(\u001B[49m\u001B[43mp_idx\u001B[49m\u001B[43m,\u001B[49m\u001B[43m \u001B[49m\u001B[43midx\u001B[49m\u001B[43m \u001B[49m\u001B[38;5;241;43m+\u001B[39;49m\u001B[43m \u001B[49m\u001B[38;5;241;43m1\u001B[39;49m\u001B[43m,\u001B[49m\u001B[43m \u001B[49m\u001B[43minend\u001B[49m\u001B[43m)\u001B[49m\n\u001B[0;32m     20\u001B[0m \u001B[38;5;28;01mreturn\u001B[39;00m node\n",
      "Input \u001B[1;32mIn [202]\u001B[0m, in \u001B[0;36mbuildTree\u001B[1;34m(p_idx, instart, inend)\u001B[0m\n\u001B[0;32m     13\u001B[0m     \u001B[38;5;28;01mreturn\u001B[39;00m \u001B[38;5;28;01mNone\u001B[39;00m\n\u001B[0;32m     14\u001B[0m \u001B[38;5;66;03m# 후위순회에서 node = pop()하여 루트 정함\u001B[39;00m\n\u001B[1;32m---> 15\u001B[0m node \u001B[38;5;241m=\u001B[39m \u001B[43mpostorder\u001B[49m\u001B[43m[\u001B[49m\u001B[43mp_idx\u001B[49m\u001B[43m]\u001B[49m\n\u001B[0;32m     16\u001B[0m p_idx \u001B[38;5;241m=\u001B[39m p_idx \u001B[38;5;241m-\u001B[39m \u001B[38;5;241m1\u001B[39m\n\u001B[0;32m     17\u001B[0m idx \u001B[38;5;241m=\u001B[39m inorder\u001B[38;5;241m.\u001B[39mindex(node)\n",
      "\u001B[1;31mIndexError\u001B[0m: list index out of range"
     ]
    }
   ],
   "source": [
    "n = int(input())\n",
    "\n",
    "inorder = list(map(int, input().split()))\n",
    "postorder = list(map(int, input().split()))\n",
    "\n",
    "tree = {each: [0, 0] for each in range(1, len(inorder) + 1)}\n",
    "\n",
    "p_idx = len(postorder) - 1\n",
    "\n",
    "\n",
    "def buildTree(p_idx, instart, inend):\n",
    "    if instart > inend:\n",
    "        return None\n",
    "    # 후위순회에서 node = pop()하여 루트 정함\n",
    "    node = postorder[p_idx]\n",
    "    p_idx = p_idx - 1\n",
    "    idx = inorder.index(node)\n",
    "    tree[node][0] = buildTree(p_idx, 0, idx - 1)\n",
    "    tree[node][1] = buildTree(p_idx, idx + 1, inend)\n",
    "    return node\n",
    "\n",
    "\n",
    "def preorder(start):\n",
    "    if start:\n",
    "        print(start, end=' ')\n",
    "        if tree[start][0]:\n",
    "            preorder(tree[start][0])\n",
    "        if tree[start][1]:\n",
    "            preorder(tree[start][1])\n",
    "\n",
    "\n",
    "root = buildTree(len(postorder) - 1, 0, len(inorder) - 1)\n",
    "preorder(root)"
   ],
   "metadata": {
    "collapsed": false,
    "pycharm": {
     "name": "#%%\n"
    }
   }
  },
  {
   "cell_type": "code",
   "execution_count": 201,
   "outputs": [
    {
     "data": {
      "text/plain": "{1: [None, None], 2: [3, None], 3: [1, None]}"
     },
     "execution_count": 201,
     "metadata": {},
     "output_type": "execute_result"
    }
   ],
   "source": [
    "tree"
   ],
   "metadata": {
    "collapsed": false,
    "pycharm": {
     "name": "#%%\n"
    }
   }
  },
  {
   "cell_type": "code",
   "execution_count": 123,
   "outputs": [
    {
     "data": {
      "text/plain": "[1, 2, 3]"
     },
     "execution_count": 123,
     "metadata": {},
     "output_type": "execute_result"
    }
   ],
   "source": [
    "inorder"
   ],
   "metadata": {
    "collapsed": false,
    "pycharm": {
     "name": "#%%\n"
    }
   }
  },
  {
   "cell_type": "code",
   "execution_count": 125,
   "outputs": [
    {
     "data": {
      "text/plain": "[1]"
     },
     "execution_count": 125,
     "metadata": {},
     "output_type": "execute_result"
    }
   ],
   "source": [
    "inorder[:1]"
   ],
   "metadata": {
    "collapsed": false,
    "pycharm": {
     "name": "#%%\n"
    }
   }
  },
  {
   "cell_type": "code",
   "execution_count": null,
   "outputs": [],
   "source": [],
   "metadata": {
    "collapsed": false,
    "pycharm": {
     "name": "#%%\n"
    }
   }
  },
  {
   "cell_type": "code",
   "execution_count": null,
   "outputs": [],
   "source": [],
   "metadata": {
    "collapsed": false,
    "pycharm": {
     "name": "#%%\n"
    }
   }
  },
  {
   "cell_type": "code",
   "execution_count": 119,
   "outputs": [
    {
     "data": {
      "text/plain": "[1]"
     },
     "execution_count": 119,
     "metadata": {},
     "output_type": "execute_result"
    }
   ],
   "source": [
    "postorder"
   ],
   "metadata": {
    "collapsed": false,
    "pycharm": {
     "name": "#%%\n"
    }
   }
  },
  {
   "cell_type": "code",
   "execution_count": null,
   "outputs": [],
   "source": [],
   "metadata": {
    "collapsed": false,
    "pycharm": {
     "name": "#%%\n"
    }
   }
  },
  {
   "cell_type": "code",
   "execution_count": null,
   "outputs": [],
   "source": [
    "k = int(input())"
   ],
   "metadata": {
    "collapsed": false,
    "pycharm": {
     "name": "#%%\n"
    }
   }
  }
 ],
 "metadata": {
  "kernelspec": {
   "display_name": "Python 3",
   "language": "python",
   "name": "python3"
  },
  "language_info": {
   "codemirror_mode": {
    "name": "ipython",
    "version": 2
   },
   "file_extension": ".py",
   "mimetype": "text/x-python",
   "name": "python",
   "nbconvert_exporter": "python",
   "pygments_lexer": "ipython2",
   "version": "2.7.6"
  }
 },
 "nbformat": 4,
 "nbformat_minor": 0
}