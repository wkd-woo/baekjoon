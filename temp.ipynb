{
 "cells": [
  {
   "cell_type": "code",
   "execution_count": 347,
   "metadata": {},
   "outputs": [],
   "source": [
    "n, k = map(int, input().split())"
   ]
  },
  {
   "cell_type": "code",
   "execution_count": 379,
   "metadata": {},
   "outputs": [
    {
     "name": "stdout",
     "output_type": "stream",
     "text": [
      "2\n"
     ]
    }
   ],
   "source": [
    "from sys import stdin\n",
    "from collections import deque\n",
    "from itertools import combinations\n",
    "\n",
    "#input = stdin.readline\n",
    "\n",
    "n, k = map(int, input().split())\n",
    "l = [[i, len(input())] for i in range(n)]\n",
    "l = deque(sorted(l, key=lambda x: (x[0], x[1])))\n",
    "f_q = deque()\n",
    "cnt = set()\n",
    "while l:\n",
    "    while l and len(f_q) != k+1:\n",
    "        f_q.append(l.popleft())\n",
    "        \n",
    "    for a, b in combinations(f_q, 2):\n",
    "        if a[1] == b[1]:\n",
    "            cnt.add(''.join(list(map(str, (a+b)))))\n",
    "    f_q.popleft()\n",
    "\n",
    "print(len(cnt))"
   ]
  },
  {
   "cell_type": "code",
   "execution_count": 356,
   "metadata": {},
   "outputs": [
    {
     "data": {
      "text/plain": [
       "deque([1, 7, [2, 5], [3, 6], [4, 5]])"
      ]
     },
     "execution_count": 356,
     "metadata": {},
     "output_type": "execute_result"
    }
   ],
   "source": [
    "f_q"
   ]
  },
  {
   "cell_type": "code",
   "execution_count": 362,
   "metadata": {},
   "outputs": [
    {
     "data": {
      "text/plain": [
       "deque([[1, 3], [2, 3], [3, 3]])"
      ]
     },
     "execution_count": 362,
     "metadata": {},
     "output_type": "execute_result"
    }
   ],
   "source": [
    "l"
   ]
  },
  {
   "cell_type": "code",
   "execution_count": 366,
   "metadata": {},
   "outputs": [
    {
     "ename": "TypeError",
     "evalue": "sequence index must be integer, not 'slice'",
     "output_type": "error",
     "traceback": [
      "\u001b[1;31m---------------------------------------------------------------------------\u001b[0m",
      "\u001b[1;31mTypeError\u001b[0m                                 Traceback (most recent call last)",
      "Cell \u001b[1;32mIn [366], line 1\u001b[0m\n\u001b[1;32m----> 1\u001b[0m l[:\u001b[39m2\u001b[39m]\n",
      "\u001b[1;31mTypeError\u001b[0m: sequence index must be integer, not 'slice'"
     ]
    }
   ],
   "source": [
    "l[:2]"
   ]
  },
  {
   "cell_type": "code",
   "execution_count": null,
   "metadata": {},
   "outputs": [],
   "source": []
  }
 ],
 "metadata": {
  "kernelspec": {
   "display_name": "Python 3.8.6 ('venv': venv)",
   "language": "python",
   "name": "python3"
  },
  "language_info": {
   "codemirror_mode": {
    "name": "ipython",
    "version": 3
   },
   "file_extension": ".py",
   "mimetype": "text/x-python",
   "name": "python",
   "nbconvert_exporter": "python",
   "pygments_lexer": "ipython3",
   "version": "3.8.6"
  },
  "vscode": {
   "interpreter": {
    "hash": "55620e4411dedaced3d02f7a91a55b88db08010c67aa36ab19ca3c34a530be0f"
   }
  }
 },
 "nbformat": 4,
 "nbformat_minor": 0
}
