{
 "cells": [
  {
   "cell_type": "code",
   "execution_count": 1,
   "metadata": {},
   "outputs": [
    {
     "name": "stdout",
     "output_type": "stream",
     "text": [
      "1\n",
      "2\n",
      "4\n"
     ]
    }
   ],
   "source": [
    "from collections import defaultdict, deque\n",
    "\n",
    "\n",
    "def dfs(node, dist, visited):\n",
    "    global diameter_max, mx_node\n",
    "    if diameter_max < dist:\n",
    "        diameter_max = max(diameter_max, dist)\n",
    "        mx_node = node\n",
    "\n",
    "    for nxt_node, nxt_dist in tree[node]:\n",
    "        if not visited[nxt_node]:\n",
    "            visited[nxt_node] = True\n",
    "            dfs(nxt_node, dist + nxt_dist, visited)\n",
    "            visited[nxt_node] = False\n",
    "\n",
    "\n",
    "for _ in range(int(input())):\n",
    "    n = int(input())\n",
    "    tree = {i: [] for i in range(n)}\n",
    "\n",
    "    for _ in range(n-1):\n",
    "        a, b = map(int, input().split())\n",
    "        tree[a].append([b, 1])\n",
    "        tree[b].append([a, 1])\n",
    "\n",
    "    visited = [False] * (n + 1)\n",
    "    diameter_max, mx_node = -int(1e9), 0\n",
    "\n",
    "    visited[1] = True\n",
    "    dfs(1, 0, visited)\n",
    "    visited[1] = False\n",
    "    visited[mx_node] = True\n",
    "    dfs(mx_node, 0, visited)\n",
    "    visited[mx_node] = False\n",
    "\n",
    "    print(diameter_max)\n"
   ]
  },
  {
   "cell_type": "code",
   "execution_count": 4,
   "metadata": {},
   "outputs": [
    {
     "data": {
      "text/plain": [
       "5"
      ]
     },
     "execution_count": 4,
     "metadata": {},
     "output_type": "execute_result"
    }
   ],
   "source": [
    "MX_NODE"
   ]
  },
  {
   "cell_type": "code",
   "execution_count": 44,
   "metadata": {},
   "outputs": [
    {
     "data": {
      "text/plain": [
       "0"
      ]
     },
     "execution_count": 44,
     "metadata": {},
     "output_type": "execute_result"
    }
   ],
   "source": [
    "TTL_min"
   ]
  },
  {
   "cell_type": "code",
   "execution_count": null,
   "metadata": {},
   "outputs": [],
   "source": []
  }
 ],
 "metadata": {
  "kernelspec": {
   "display_name": "Python 3.8.6 ('venv': venv)",
   "language": "python",
   "name": "python3"
  },
  "language_info": {
   "codemirror_mode": {
    "name": "ipython",
    "version": 3
   },
   "file_extension": ".py",
   "mimetype": "text/x-python",
   "name": "python",
   "nbconvert_exporter": "python",
   "pygments_lexer": "ipython3",
   "version": "3.8.6"
  },
  "vscode": {
   "interpreter": {
    "hash": "55620e4411dedaced3d02f7a91a55b88db08010c67aa36ab19ca3c34a530be0f"
   }
  }
 },
 "nbformat": 4,
 "nbformat_minor": 0
}
