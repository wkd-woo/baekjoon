{
 "cells": [
  {
   "cell_type": "code",
   "execution_count": 155,
   "metadata": {},
   "outputs": [],
   "source": [
    "n, k = map(int, input().split())"
   ]
  },
  {
   "cell_type": "code",
   "execution_count": 179,
   "metadata": {},
   "outputs": [],
   "source": [
    "from collections import deque\n",
    "\n",
    "MAX = 100001\n",
    "n, k = map(int, input().split())\n",
    "l = [0] * MAX\n",
    "path = {n:0}\n",
    "\n",
    "def bfs():\n",
    "    q = deque([n])\n",
    "    while q:\n",
    "        now_pos = q.popleft()\n",
    "        if now_pos == k:\n",
    "            return l[now_pos]\n",
    "        for next_pos in (now_pos * 2, now_pos - 1, now_pos + 1):\n",
    "            if 0 <= next_pos < MAX and not l[next_pos]:  # 방문하지 않았다면\n",
    "                if next_pos == now_pos * 2:\n",
    "                    l[next_pos] = l[now_pos] + 1\n",
    "                    path[next_pos] = now_pos\n",
    "                else:\n",
    "                    l[next_pos] = l[now_pos] + 1\n",
    "                    path[next_pos] = now_pos\n",
    "\n",
    "                q.append(next_pos)\n",
    "\n",
    "cnt = bfs()\n",
    "print(cnt)\n",
    "answer, pos = [], k\n",
    "for _ in range(cnt+1):\n",
    "    answer.append(pos)\n",
    "    pos = path[pos]\n",
    "\n",
    "answer.reverse()\n",
    "print(*answer)\n"
   ]
  },
  {
   "cell_type": "code",
   "execution_count": 180,
   "metadata": {},
   "outputs": [
    {
     "data": {
      "text/plain": [
       "4"
      ]
     },
     "execution_count": 180,
     "metadata": {},
     "output_type": "execute_result"
    }
   ],
   "source": [
    "cnt"
   ]
  },
  {
   "cell_type": "code",
   "execution_count": 183,
   "metadata": {},
   "outputs": [],
   "source": [
    "answer = []\n",
    "pos = k\n",
    "for _ in range(cnt+1):\n",
    "    answer.append(pos)\n",
    "    pos = path[pos]\n",
    "\n",
    "answer.reverse()\n",
    "print(*answer)"
   ]
  },
  {
   "cell_type": "code",
   "execution_count": 185,
   "metadata": {},
   "outputs": [],
   "source": [
    "answer.reverse()\n",
    "print(*answer)"
   ]
  },
  {
   "cell_type": "code",
   "execution_count": 186,
   "metadata": {},
   "outputs": [
    {
     "name": "stdout",
     "output_type": "stream",
     "text": [
      "5 10 9 18 17\n"
     ]
    }
   ],
   "source": []
  },
  {
   "cell_type": "code",
   "execution_count": null,
   "metadata": {},
   "outputs": [],
   "source": []
  }
 ],
 "metadata": {
  "kernelspec": {
   "display_name": "Python 3.8.6 ('venv': venv)",
   "language": "python",
   "name": "python3"
  },
  "language_info": {
   "codemirror_mode": {
    "name": "ipython",
    "version": 3
   },
   "file_extension": ".py",
   "mimetype": "text/x-python",
   "name": "python",
   "nbconvert_exporter": "python",
   "pygments_lexer": "ipython3",
   "version": "3.8.6"
  },
  "vscode": {
   "interpreter": {
    "hash": "55620e4411dedaced3d02f7a91a55b88db08010c67aa36ab19ca3c34a530be0f"
   }
  }
 },
 "nbformat": 4,
 "nbformat_minor": 0
}
