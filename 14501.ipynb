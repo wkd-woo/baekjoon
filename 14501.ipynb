{
 "cells": [
  {
   "cell_type": "code",
   "execution_count": 4,
   "metadata": {
    "collapsed": true,
    "pycharm": {
     "name": "#%%\n"
    }
   },
   "outputs": [],
   "source": [
    "N = int(input())\n",
    "\n",
    "consultations = []\n",
    "money = 0\n",
    "\n",
    "for i in range(N):\n",
    "    consultations.append(list(map(int, input().split())))\n",
    "\n",
    "if 1 <= N <= 15:\n",
    "    schedule = []\n",
    "\n",
    "    for i, consultation in enumerate(consultations):\n",
    "        consultation[0] += i\n",
    "        if len(schedule) == 0:\n",
    "            schedule.append(consultation)\n",
    "        else:\n",
    "            if consultation[0] <= i + 1 and consultation[1] > schedule[-1][1]:\n",
    "                schedule.pop()\n",
    "                schedule.append(consultation)\n",
    "            elif consultation[0] > schedule[-1][0]:\n",
    "                schedule.append(consultation)\n",
    "            elif :\n"
   ]
  },
  {
   "cell_type": "code",
   "execution_count": 5,
   "outputs": [
    {
     "data": {
      "text/plain": "[[3, 10], [5, 20], [1, 10]]"
     },
     "execution_count": 5,
     "metadata": {},
     "output_type": "execute_result"
    }
   ],
   "source": [
    "consultations"
   ],
   "metadata": {
    "collapsed": false,
    "pycharm": {
     "name": "#%%\n"
    }
   }
  },
  {
   "cell_type": "code",
   "execution_count": 8,
   "outputs": [
    {
     "data": {
      "text/plain": "3"
     },
     "execution_count": 8,
     "metadata": {},
     "output_type": "execute_result"
    }
   ],
   "source": [
    "len(consultations)"
   ],
   "metadata": {
    "collapsed": false,
    "pycharm": {
     "name": "#%%\n"
    }
   }
  },
  {
   "cell_type": "code",
   "execution_count": null,
   "outputs": [],
   "source": [],
   "metadata": {
    "collapsed": false,
    "pycharm": {
     "name": "#%%\n"
    }
   }
  }
 ],
 "metadata": {
  "kernelspec": {
   "display_name": "Python 3",
   "language": "python",
   "name": "python3"
  },
  "language_info": {
   "codemirror_mode": {
    "name": "ipython",
    "version": 2
   },
   "file_extension": ".py",
   "mimetype": "text/x-python",
   "name": "python",
   "nbconvert_exporter": "python",
   "pygments_lexer": "ipython2",
   "version": "2.7.6"
  }
 },
 "nbformat": 4,
 "nbformat_minor": 0
}