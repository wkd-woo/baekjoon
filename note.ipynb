{
 "cells": [
  {
   "cell_type": "markdown",
   "source": [
    "1012번"
   ],
   "metadata": {
    "collapsed": false
   }
  },
  {
   "cell_type": "code",
   "execution_count": 42,
   "outputs": [],
   "source": [
    "t = 2  # int(input())\n",
    "m, n, k = 10, 8, 17  # map(int, input().split())"
   ],
   "metadata": {
    "collapsed": false,
    "pycharm": {
     "name": "#%%\n"
    }
   }
  },
  {
   "cell_type": "code",
   "execution_count": 43,
   "outputs": [],
   "source": [
    "condition = (1 <= k <= 2500)"
   ],
   "metadata": {
    "collapsed": false,
    "pycharm": {
     "name": "#%%\n"
    }
   }
  },
  {
   "cell_type": "code",
   "execution_count": 44,
   "outputs": [
    {
     "data": {
      "text/plain": "True"
     },
     "execution_count": 44,
     "metadata": {},
     "output_type": "execute_result"
    }
   ],
   "source": [
    "for i in range(k)"
   ],
   "metadata": {
    "collapsed": false,
    "pycharm": {
     "name": "#%%\n"
    }
   }
  },
  {
   "cell_type": "code",
   "execution_count": null,
   "outputs": [],
   "source": [
    "# 인접기반 그래프 순회, 방문 안된 노드 방문 -> 현재 node와 같은 연결요소\n",
    "def dfs(node):\n",
    "    visited[node] = True\n",
    "    for each in graph[node]:\n",
    "        if not visited[each]:\n",
    "            dfs(each)\n",
    "\n",
    "\n",
    "# 인접기반 연결리스트 구현 > 연결리스트는 graph[정점] == 배열\n",
    "graph = [[0] for _ in range(n + 1) for _ in range(m + 1)]\n",
    "visited = [False] * (n + 1)\n",
    "count = 0\n",
    "\n",
    "for _ in range(m):\n",
    "    u, v = map(int, input().split())\n",
    "    graph[u].append(v)\n",
    "    graph[v].append(u)\n",
    "\n",
    "for i in range(1, n + 1):\n",
    "    if not visited[i]:\n",
    "        count += 1\n",
    "        dfs(i)\n",
    "\n",
    "print(count)\n"
   ],
   "metadata": {
    "collapsed": false,
    "pycharm": {
     "name": "#%%\n"
    }
   }
  }
 ],
 "metadata": {
  "kernelspec": {
   "display_name": "Python 3",
   "language": "python",
   "name": "python3"
  },
  "language_info": {
   "codemirror_mode": {
    "name": "ipython",
    "version": 2
   },
   "file_extension": ".py",
   "mimetype": "text/x-python",
   "name": "python",
   "nbconvert_exporter": "python",
   "pygments_lexer": "ipython2",
   "version": "2.7.6"
  }
 },
 "nbformat": 4,
 "nbformat_minor": 0
}