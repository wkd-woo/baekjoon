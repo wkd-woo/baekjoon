{
 "cells": [
  {
   "cell_type": "code",
   "execution_count": null,
   "metadata": {
    "collapsed": true
   },
   "outputs": [],
   "source": [
    "n = int(input())\n",
    "l = list(map(int, input().split()))"
   ]
  },
  {
   "cell_type": "code",
   "execution_count": null,
   "outputs": [],
   "source": [
    "start, end = 0, n - 1\n",
    "answerL = 0\n",
    "answerR = 0\n",
    "while start < end:\n",
    "    temp = l[start] + l[end]\n",
    "    if abs(temp) < mix:\n",
    "        mix = abs(temp)\n",
    "        answerL = start\n",
    "        answerR = end\n",
    "\n",
    "    if temp < 0:\n",
    "        start += 1\n",
    "    elif temp > 0:\n",
    "        end -= 1\n",
    "    else:\n",
    "        break\n",
    "\n",
    "print(l[answerL], l[answerR])"
   ],
   "metadata": {
    "collapsed": false,
    "pycharm": {
     "name": "#%%\n"
    }
   }
  }
 ],
 "metadata": {
  "kernelspec": {
   "display_name": "Python 3",
   "language": "python",
   "name": "python3"
  },
  "language_info": {
   "codemirror_mode": {
    "name": "ipython",
    "version": 2
   },
   "file_extension": ".py",
   "mimetype": "text/x-python",
   "name": "python",
   "nbconvert_exporter": "python",
   "pygments_lexer": "ipython2",
   "version": "2.7.6"
  }
 },
 "nbformat": 4,
 "nbformat_minor": 0
}