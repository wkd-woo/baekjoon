{
 "cells": [
  {
   "cell_type": "code",
   "execution_count": 70,
   "metadata": {
    "collapsed": true
   },
   "outputs": [],
   "source": [
    "from collections import deque\n",
    "import re\n",
    "\n",
    "com = re.compile('\\d')\n",
    "n = int(input())"
   ]
  },
  {
   "cell_type": "code",
   "execution_count": 47,
   "outputs": [],
   "source": [
    "def dfs(route, start_node):\n",
    "    visited = []\n",
    "    stack = deque()\n",
    "    path = []\n",
    "\n",
    "    stack.append(start_node)\n",
    "\n",
    "    while stack:\n",
    "        node = stack.pop()\n",
    "\n",
    "        if node not in visited:\n",
    "            visited.append(node)\n",
    "            stack += reversed(route[node])\n",
    "\n",
    "    for each in visited:\n",
    "        path.append(each)\n",
    "\n",
    "    return path"
   ],
   "metadata": {
    "collapsed": false,
    "pycharm": {
     "name": "#%%\n"
    }
   }
  },
  {
   "cell_type": "code",
   "execution_count": 36,
   "outputs": [],
   "source": [
    "graph = [[] for _ in range(n)]\n",
    "for i in range(n):\n",
    "    graph[i] = list(map(int, input().split()))"
   ],
   "metadata": {
    "collapsed": false,
    "pycharm": {
     "name": "#%%\n"
    }
   }
  },
  {
   "cell_type": "code",
   "execution_count": 50,
   "outputs": [
    {
     "data": {
      "text/plain": "{0: [0, 2, 3, 4, 5, 6],\n 1: [1, 2, 6],\n 2: [2],\n 3: [0, 2, 3, 4, 5, 6],\n 4: [0, 2, 3, 4, 5, 6],\n 5: [2, 5, 6],\n 6: [2, 6]}"
     },
     "execution_count": 50,
     "metadata": {},
     "output_type": "execute_result"
    }
   ],
   "source": [
    "route = {i: [] for i in range(n)}\n",
    "for i in range(n):\n",
    "    for j in range(n):\n",
    "        if graph[i][j]:\n",
    "            route[i].append(j)\n",
    "\n",
    "route"
   ],
   "metadata": {
    "collapsed": false,
    "pycharm": {
     "name": "#%%\n"
    }
   }
  },
  {
   "cell_type": "code",
   "execution_count": 88,
   "outputs": [
    {
     "name": "stdout",
     "output_type": "stream",
     "text": [
      "1 0 1 1 1 1 1\n",
      "0 1 1 0 0 0 1\n",
      "0 0 1 0 0 0 0\n",
      "1 0 1 1 1 1 1\n",
      "1 0 1 1 1 1 1\n",
      "0 0 1 0 0 1 1\n",
      "0 0 1 0 0 0 1\n"
     ]
    }
   ],
   "source": [
    "graph = [[0] * n for _ in range(n)]\n",
    "\n",
    "for i in range(n):\n",
    "    path = dfs(route, i)\n",
    "    for j in path:\n",
    "        graph[i][j] = 1\n",
    "\n",
    "for i in range(len(graph)):\n",
    "    print(str(graph[i]).replace(',', '')[1:-1])\n"
   ],
   "metadata": {
    "collapsed": false,
    "pycharm": {
     "name": "#%%\n"
    }
   }
  },
  {
   "cell_type": "code",
   "execution_count": 72,
   "outputs": [
    {
     "data": {
      "text/plain": "list"
     },
     "execution_count": 72,
     "metadata": {},
     "output_type": "execute_result"
    }
   ],
   "source": [
    "type(graph[i])"
   ],
   "metadata": {
    "collapsed": false,
    "pycharm": {
     "name": "#%%\n"
    }
   }
  },
  {
   "cell_type": "code",
   "execution_count": 75,
   "outputs": [
    {
     "data": {
      "text/plain": "[[1, 0, 1, 1, 1, 1, 1],\n [0, 1, 1, 0, 0, 0, 1],\n [0, 0, 1, 0, 0, 0, 0],\n [1, 0, 1, 1, 1, 1, 1],\n [1, 0, 1, 1, 1, 1, 1],\n [0, 0, 1, 0, 0, 1, 1],\n [0, 0, 1, 0, 0, 0, 1]]"
     },
     "execution_count": 75,
     "metadata": {},
     "output_type": "execute_result"
    }
   ],
   "source": [
    "graph"
   ],
   "metadata": {
    "collapsed": false,
    "pycharm": {
     "name": "#%%\n"
    }
   }
  },
  {
   "cell_type": "code",
   "execution_count": null,
   "outputs": [],
   "source": [],
   "metadata": {
    "collapsed": false,
    "pycharm": {
     "name": "#%%\n"
    }
   }
  }
 ],
 "metadata": {
  "kernelspec": {
   "display_name": "Python 3",
   "language": "python",
   "name": "python3"
  },
  "language_info": {
   "codemirror_mode": {
    "name": "ipython",
    "version": 2
   },
   "file_extension": ".py",
   "mimetype": "text/x-python",
   "name": "python",
   "nbconvert_exporter": "python",
   "pygments_lexer": "ipython2",
   "version": "2.7.6"
  }
 },
 "nbformat": 4,
 "nbformat_minor": 0
}