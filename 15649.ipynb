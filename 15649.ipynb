{
 "cells": [
  {
   "cell_type": "code",
   "execution_count": 20,
   "outputs": [
    {
     "name": "stdout",
     "output_type": "stream",
     "text": [
      "1 1\n",
      "1 7\n",
      "1 9\n",
      "7 7\n",
      "7 9\n",
      "9 9\n"
     ]
    }
   ],
   "source": [
    "n, m = map(int, input().split())\n",
    "l = list(map(int, input().split()))\n",
    "l.sort()\n",
    "\n",
    "s = []\n",
    "res = set()\n",
    "\n",
    "\n",
    "def dfs():\n",
    "    if len(s) == m:\n",
    "        res.add(tuple(s))\n",
    "        return\n",
    "\n",
    "    for i in l:\n",
    "        if len(s) == 0 or i >= s[-1]:\n",
    "            s.append(i)\n",
    "            dfs()\n",
    "            s.pop()\n",
    "\n",
    "\n",
    "dfs()\n",
    "for each in sorted(res):\n",
    "    print(*each)"
   ],
   "metadata": {
    "collapsed": false,
    "pycharm": {
     "name": "#%%\n"
    }
   }
  },
  {
   "cell_type": "code",
   "execution_count": 20,
   "outputs": [
    {
     "name": "stdout",
     "output_type": "stream",
     "text": [
      "1 7\n",
      "1 9\n",
      "7 1\n",
      "7 9\n",
      "9 1\n",
      "9 7\n",
      "9 9\n"
     ]
    }
   ],
   "source": [
    "for i in sorted(res):\n",
    "    print(*i)"
   ],
   "metadata": {
    "collapsed": false,
    "pycharm": {
     "name": "#%%\n"
    }
   }
  },
  {
   "cell_type": "code",
   "execution_count": null,
   "outputs": [],
   "source": [],
   "metadata": {
    "collapsed": false,
    "pycharm": {
     "name": "#%%\n"
    }
   }
  }
 ],
 "metadata": {
  "kernelspec": {
   "display_name": "Python 3",
   "language": "python",
   "name": "python3"
  },
  "language_info": {
   "codemirror_mode": {
    "name": "ipython",
    "version": 2
   },
   "file_extension": ".py",
   "mimetype": "text/x-python",
   "name": "python",
   "nbconvert_exporter": "python",
   "pygments_lexer": "ipython2",
   "version": "2.7.6"
  }
 },
 "nbformat": 4,
 "nbformat_minor": 0
}