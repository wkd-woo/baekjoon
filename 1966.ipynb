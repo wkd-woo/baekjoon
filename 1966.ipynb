{
 "cells": [
  {
   "cell_type": "code",
   "execution_count": 1,
   "metadata": {},
   "outputs": [
    {
     "name": "stdout",
     "output_type": "stream",
     "text": [
      "1\n",
      "2\n",
      "5\n"
     ]
    },
    {
     "ename": "",
     "evalue": "",
     "output_type": "error",
     "traceback": [
      "\u001b[1;31m현재 셀 또는 이전 셀에서 코드를 실행하는 동안 Kernel이 충돌했습니다. 셀의 코드를 검토하여 오류의 가능한 원인을 식별하세요. 자세한 내용을 보려면 <a href='https://aka.ms/vscodeJupyterKernelCrash'> 여기 </a> 를 클릭하세요. 자세한 내용은 Jupyter <a href='command:jupyter.viewOutput'>로그</a>를 참조하세요."
     ]
    }
   ],
   "source": [
    "from collections import deque\n",
    "\n",
    "t = int(input())\n",
    "for i in range(1, t + 1):\n",
    "    n, m = map(int, input().split())\n",
    "    l = deque(map(int, input().split()))\n",
    "\n",
    "    for j in range(n):\n",
    "        l[j] = [l[j], False]\n",
    "\n",
    "    cnt = 0\n",
    "    l[m][1] = True\n",
    "    while l:\n",
    "        if l[0][0] == max(t[0] for t in l):  # 현재 중요도가 가장 높다면\n",
    "            temp = l.popleft()  # 큐에서 뽑아 낸다.\n",
    "            cnt += 1\n",
    "            if temp[1] == True:\n",
    "                print(cnt)\n",
    "                break\n",
    "        else:  # 중요도가 가장 높지 않으면 맨 뒤로 돌림.\n",
    "            l.append(l.popleft())"
   ]
  },
  {
   "cell_type": "code",
   "execution_count": null,
   "metadata": {},
   "outputs": [],
   "source": [
    "t = int(input())\n",
    "\n",
    "for _ in range(t):\n",
    "  n, m = list(map(int, input().split()))\n",
    "  que = list(map(int, input().split()))\n",
    "  que = deque((i, idx) for idx, i in enumerate(que))\n",
    "  \n",
    "  cnt = 0\n",
    "  while True:\n",
    "    if que[0][0] == max(que, key=lambda x: x[0])[0]:\n",
    "      cnt += 1\n",
    "      if que[0][1] == m:\n",
    "        print(cnt)\n",
    "        break\n",
    "      else:\n",
    "        que.popleft()\n",
    "    else:\n",
    "      que.append(que.popleft())"
   ]
  }
 ],
 "metadata": {
  "kernelspec": {
   "display_name": "Python 3.9.7",
   "language": "python",
   "name": "python3"
  },
  "language_info": {
   "codemirror_mode": {
    "name": "ipython",
    "version": 3
   },
   "file_extension": ".py",
   "mimetype": "text/x-python",
   "name": "python",
   "nbconvert_exporter": "python",
   "pygments_lexer": "ipython3",
   "version": "3.9.7"
  },
  "orig_nbformat": 4,
  "vscode": {
   "interpreter": {
    "hash": "74e9318079203a09f5832b2cff9944cf32c1cf832619b9f7664d6003dabd135d"
   }
  }
 },
 "nbformat": 4,
 "nbformat_minor": 2
}
