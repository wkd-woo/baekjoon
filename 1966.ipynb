{
 "cells": [
  {
   "cell_type": "code",
   "execution_count": null,
   "metadata": {},
   "outputs": [],
   "source": [
    "t = int(input())\n",
    "n, m = map(int, input().split())"
   ]
  },
  {
   "cell_type": "code",
   "execution_count": 8,
   "metadata": {},
   "outputs": [],
   "source": [
    "t = 3\n",
    "n, m = 4, 2"
   ]
  },
  {
   "cell_type": "code",
   "execution_count": 9,
   "metadata": {},
   "outputs": [],
   "source": [
    "from collections import deque\n",
    "\n",
    "answer = []\n",
    "\n",
    "l = deque(map(int, input().split()))"
   ]
  },
  {
   "cell_type": "code",
   "execution_count": 12,
   "metadata": {},
   "outputs": [
    {
     "name": "stdout",
     "output_type": "stream",
     "text": [
      "2\n",
      "8\n",
      "5\n",
      "6\n",
      "7\n",
      "8\n",
      "9\n"
     ]
    }
   ],
   "source": [
    "from collections import deque\n",
    "\n",
    "t = int(input())\n",
    "for i in range(1, t + 1):\n",
    "    n, m = map(int, input().split())\n",
    "    l = deque(map(int, input().split()))\n",
    "\n",
    "    for j in range(n):\n",
    "        l[j] = [l[j], False]\n",
    "\n",
    "    cnt = 0\n",
    "    l[m][1] = True\n",
    "    while l:\n",
    "        if l[0][0] == max(t[0] for t in l):  # 현재 중요도가 가장 높다면\n",
    "            temp = l.popleft()  # 큐에서 뽑아 낸다.\n",
    "            cnt += 1\n",
    "            if temp[1] == True:\n",
    "                print(cnt)\n",
    "                exit(0)\n",
    "        else:  # 중요도가 가장 높지 않으면 맨 뒤로 돌림.\n",
    "            l.append(l.popleft())"
   ]
  },
  {
   "cell_type": "code",
   "execution_count": 11,
   "metadata": {},
   "outputs": [
    {
     "data": {
      "text/plain": [
       "2"
      ]
     },
     "execution_count": 11,
     "metadata": {},
     "output_type": "execute_result"
    }
   ],
   "source": [
    "cnt"
   ]
  },
  {
   "cell_type": "code",
   "execution_count": null,
   "metadata": {},
   "outputs": [],
   "source": []
  }
 ],
 "metadata": {
  "kernelspec": {
   "display_name": "Python 3.9.7",
   "language": "python",
   "name": "python3"
  },
  "language_info": {
   "codemirror_mode": {
    "name": "ipython",
    "version": 3
   },
   "file_extension": ".py",
   "mimetype": "text/x-python",
   "name": "python",
   "nbconvert_exporter": "python",
   "pygments_lexer": "ipython3",
   "version": "3.9.7"
  },
  "orig_nbformat": 4,
  "vscode": {
   "interpreter": {
    "hash": "74e9318079203a09f5832b2cff9944cf32c1cf832619b9f7664d6003dabd135d"
   }
  }
 },
 "nbformat": 4,
 "nbformat_minor": 2
}