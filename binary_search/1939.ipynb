{
 "cells": [
  {
   "cell_type": "code",
   "execution_count": 54,
   "outputs": [
    {
     "name": "stdout",
     "output_type": "stream",
     "text": [
      "3\n"
     ]
    }
   ],
   "source": [
    "from collections import deque\n",
    "\n",
    "n, m = map(int, input().split())\n",
    "graph = {i: [] for i in range(1, n + 1)}\n",
    "\n",
    "\n",
    "def bfs(mid):\n",
    "    que = deque([start_node])\n",
    "    visited = [False] * (n + 1)  # 방문 여부\n",
    "    visited[start_node] = True\n",
    "    while que:\n",
    "        node = que.popleft()\n",
    "        for nxt, weight in graph[node]:\n",
    "            if not visited[nxt] and weight >= mid:  # 방문 안했고, mid보다 값이 크면\n",
    "                visited[nxt] = True  # 방문처리\n",
    "                que.append(nxt)  # 큐에 추가\n",
    "\n",
    "    return visited[end_node]  # 목표 노드에 도달했는지 여부\n",
    "\n",
    "\n",
    "start = int(1e9)\n",
    "end = 1\n",
    "\n",
    "for _ in range(m):\n",
    "    a, b, c = map(int, input().split())\n",
    "    graph[a].append((b, c))  # 양방향 그래프\n",
    "    graph[b].append((a, c))\n",
    "    start = min(start, c)  # 최소값\n",
    "    end = max(end, c)  # 최대값\n",
    "\n",
    "start_node, end_node = map(int, input().split())\n",
    "\n",
    "# 이진 탐색\n",
    "result = start\n",
    "while start <= end:\n",
    "    mid = (start + end) // 2\n",
    "    if bfs(mid):  # 목표 node에 도달했다면\n",
    "        result = mid\n",
    "        start = mid + 1  # start 올림\n",
    "    else:  # 도달 못했다면\n",
    "        end = mid - 1  # end를 낮춤\n",
    "\n",
    "print(result)"
   ],
   "metadata": {
    "collapsed": false,
    "pycharm": {
     "name": "#%%\n"
    }
   }
  },
  {
   "cell_type": "code",
   "execution_count": null,
   "outputs": [],
   "source": [],
   "metadata": {
    "collapsed": false,
    "pycharm": {
     "name": "#%%\n"
    }
   }
  }
 ],
 "metadata": {
  "kernelspec": {
   "display_name": "Python 3",
   "language": "python",
   "name": "python3"
  },
  "language_info": {
   "codemirror_mode": {
    "name": "ipython",
    "version": 2
   },
   "file_extension": ".py",
   "mimetype": "text/x-python",
   "name": "python",
   "nbconvert_exporter": "python",
   "pygments_lexer": "ipython2",
   "version": "2.7.6"
  }
 },
 "nbformat": 4,
 "nbformat_minor": 0
}