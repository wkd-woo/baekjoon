{
 "cells": [
  {
   "cell_type": "code",
   "execution_count": 37,
   "metadata": {
    "collapsed": true
   },
   "outputs": [
    {
     "name": "stdout",
     "output_type": "stream",
     "text": [
      "0\n",
      "0\n",
      "1\n",
      "3\n",
      "3\n",
      "0\n",
      "0\n",
      "1\n"
     ]
    }
   ],
   "source": [
    "def binary_search(target, data):\n",
    "    start = 0\n",
    "    end = len(data) - 1\n",
    "    res = -1\n",
    "    while start <= end:\n",
    "        mid = (start + end) // 2\n",
    "        if data[mid] < target:\n",
    "            res = mid\n",
    "            start = mid + 1\n",
    "        else:\n",
    "            end = mid - 1\n",
    "    return res\n",
    "\n",
    "\n",
    "t = int(input())\n",
    "\n",
    "for _ in range(t):\n",
    "    n, m = map(int, input().split())\n",
    "    a = sorted(map(int, input().split()))\n",
    "    b = sorted(map(int, input().split()))\n",
    "    cnt = 0\n",
    "\n",
    "    for each in a:\n",
    "        cnt += binary_search(each, b) + 1\n",
    "\n",
    "    print(cnt)"
   ]
  },
  {
   "cell_type": "code",
   "execution_count": null,
   "outputs": [],
   "source": [
    "import bisect\n",
    "\n",
    "t = int(input())\n",
    "for _ in range(t):\n",
    "    n, m = map(int, input().split())\n",
    "    a = sorted(map(int, input().split()))\n",
    "    b = sorted(map(int, input().split()))\n",
    "    cnt = 0\n",
    "    for each in a:\n",
    "        cnt += (bisect.bisect(b, each - 1))\n",
    "    print(cnt)"
   ],
   "metadata": {
    "collapsed": false,
    "pycharm": {
     "name": "#%%\n"
    }
   }
  }
 ],
 "metadata": {
  "kernelspec": {
   "display_name": "Python 3",
   "language": "python",
   "name": "python3"
  },
  "language_info": {
   "codemirror_mode": {
    "name": "ipython",
    "version": 2
   },
   "file_extension": ".py",
   "mimetype": "text/x-python",
   "name": "python",
   "nbconvert_exporter": "python",
   "pygments_lexer": "ipython2",
   "version": "2.7.6"
  }
 },
 "nbformat": 4,
 "nbformat_minor": 0
}