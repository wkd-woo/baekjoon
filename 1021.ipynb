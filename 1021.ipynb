{
 "cells": [
  {
   "cell_type": "code",
   "execution_count": 10,
   "outputs": [],
   "source": [
    "from collections import deque\n",
    "from sys import stdin\n",
    "\n",
    "#input = stdin.readline"
   ],
   "metadata": {
    "collapsed": false,
    "pycharm": {
     "name": "#%%\n"
    }
   }
  },
  {
   "cell_type": "code",
   "execution_count": 52,
   "metadata": {
    "collapsed": true
   },
   "outputs": [],
   "source": [
    "n, m = map(int, input().split())"
   ]
  },
  {
   "cell_type": "code",
   "execution_count": 53,
   "outputs": [
    {
     "name": "stdout",
     "output_type": "stream",
     "text": [
      "14\n"
     ]
    }
   ],
   "source": [
    "queue = deque([i for i in range(1, n + 1)])\n",
    "target = deque(map(int, input().split()))\n",
    "cnt = 0\n",
    "\n",
    "while target:\n",
    "    if target[0] == queue[0]:  # 1번연산\n",
    "        target.popleft()\n",
    "        queue.popleft()\n",
    "    elif queue.index(target[0]) <= len(queue) // 2:\n",
    "        queue.append(queue.popleft()) # 2번연산\n",
    "        cnt += 1\n",
    "    elif queue.index(target[0]) > len(queue) // 2:\n",
    "        queue.appendleft(queue.pop()) # 3번연산\n",
    "        cnt += 1\n",
    "\n",
    "print(cnt)"
   ],
   "metadata": {
    "collapsed": false,
    "pycharm": {
     "name": "#%%\n"
    }
   }
  },
  {
   "cell_type": "code",
   "execution_count": 29,
   "outputs": [
    {
     "data": {
      "text/plain": "deque([4, 5, 6, 7, 8, 9, 10])"
     },
     "execution_count": 29,
     "metadata": {},
     "output_type": "execute_result"
    }
   ],
   "source": [
    "queue"
   ],
   "metadata": {
    "collapsed": false,
    "pycharm": {
     "name": "#%%\n"
    }
   }
  },
  {
   "cell_type": "code",
   "execution_count": null,
   "outputs": [],
   "source": [],
   "metadata": {
    "collapsed": false,
    "pycharm": {
     "name": "#%%\n"
    }
   }
  }
 ],
 "metadata": {
  "kernelspec": {
   "display_name": "Python 3",
   "language": "python",
   "name": "python3"
  },
  "language_info": {
   "codemirror_mode": {
    "name": "ipython",
    "version": 2
   },
   "file_extension": ".py",
   "mimetype": "text/x-python",
   "name": "python",
   "nbconvert_exporter": "python",
   "pygments_lexer": "ipython2",
   "version": "2.7.6"
  }
 },
 "nbformat": 4,
 "nbformat_minor": 0
}