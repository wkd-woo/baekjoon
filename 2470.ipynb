{
 "cells": [
  {
   "cell_type": "code",
   "execution_count": null,
   "metadata": {
    "collapsed": true
   },
   "outputs": [],
   "source": [
    "n = int(input())\n",
    "l = sorted(map(int, input().split()))"
   ]
  },
  {
   "cell_type": "code",
   "execution_count": null,
   "outputs": [],
   "source": [
    "start, end = l[0], l[-1]\n",
    "mx, mn = 0, 0\n",
    "std = 100000\n",
    "while start <= end:\n",
    "    mid = (start + end) // 2  # 중간 값\n",
    "\n",
    "    for each in l:\n",
    "        cnt += each // mid\n",
    "\n",
    "    if cnt >= n:\n",
    "        result = max(mid, result)\n",
    "        start = mid + 1\n",
    "    elif cnt < n:\n",
    "        end = mid - 1\n"
   ],
   "metadata": {
    "collapsed": false,
    "pycharm": {
     "name": "#%%\n"
    }
   }
  }
 ],
 "metadata": {
  "kernelspec": {
   "display_name": "Python 3",
   "language": "python",
   "name": "python3"
  },
  "language_info": {
   "codemirror_mode": {
    "name": "ipython",
    "version": 2
   },
   "file_extension": ".py",
   "mimetype": "text/x-python",
   "name": "python",
   "nbconvert_exporter": "python",
   "pygments_lexer": "ipython2",
   "version": "2.7.6"
  }
 },
 "nbformat": 4,
 "nbformat_minor": 0
}