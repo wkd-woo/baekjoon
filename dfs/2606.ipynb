{
 "cells": [
  {
   "cell_type": "code",
   "execution_count": null,
   "metadata": {
    "collapsed": true
   },
   "outputs": [],
   "source": [
    "n = int(input())\n",
    "m = int(input())\n",
    "graph = [[] * n for _ in range(n + 1)]\n",
    "\n",
    "for _ in range(m):\n",
    "    a, b = map(int, input().split())\n",
    "    graph[a].append(b)\n",
    "    graph[b].append(a)\n",
    "\n",
    "cnt = 0\n",
    "visited = [0] * (n + 1)\n",
    "\n",
    "\n",
    "def dfs(start):\n",
    "    global cnt\n",
    "    visited[start] = 1\n",
    "    for i in graph[start]:\n",
    "        if visited[i] == 0:\n",
    "            dfs(i)\n",
    "            cnt += 1\n",
    "\n",
    "\n",
    "dfs(1)\n",
    "print(cnt)"
   ]
  },
  {
   "cell_type": "code",
   "execution_count": null,
   "outputs": [],
   "source": [
    "n = int(input())\n",
    "k = int(input())\n",
    "\n",
    "def dfs(start):\n",
    "    visited, stack = list(), list()\n",
    "    stack.append(start)\n",
    "    while stack:\n",
    "        node = stack.pop()\n",
    "        if node not in visited:\n",
    "            visited.append(node)\n",
    "            stack.extend(reversed(graph[node]))\n",
    "\n",
    "    return visited\n",
    "\n",
    "graph = {i: [] for i in range(1, n + 1)}\n",
    "for _ in range(k):\n",
    "    a, b = map(int, input().split())\n",
    "    graph[a].append(b)\n",
    "    graph[b].append(a)\n",
    "\n",
    "\n",
    "print(len(dfs(1)) - 1)"
   ],
   "metadata": {
    "collapsed": false,
    "pycharm": {
     "name": "#%%\n"
    }
   }
  }
 ],
 "metadata": {
  "kernelspec": {
   "display_name": "Python 3",
   "language": "python",
   "name": "python3"
  },
  "language_info": {
   "codemirror_mode": {
    "name": "ipython",
    "version": 2
   },
   "file_extension": ".py",
   "mimetype": "text/x-python",
   "name": "python",
   "nbconvert_exporter": "python",
   "pygments_lexer": "ipython2",
   "version": "2.7.6"
  }
 },
 "nbformat": 4,
 "nbformat_minor": 0
}