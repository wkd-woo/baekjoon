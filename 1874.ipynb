{
 "cells": [
  {
   "cell_type": "code",
   "execution_count": null,
   "metadata": {},
   "outputs": [],
   "source": [
    "n = int(input())\n",
    "\n",
    "cnt = 1\n",
    "stack = []\n",
    "result = []\n",
    "\n",
    "for i in range(1, n+1):\n",
    "  data = int(input())\n",
    "  while cnt <= data:\n",
    "    stack.append(cnt)\n",
    "    cnt += 1\n",
    "    result.append('+')\n",
    "  if stack[-1] == data:\n",
    "    stack.pop()\n",
    "    result.append('-')\n",
    "  else:\n",
    "    print('NO')\n",
    "    exit(0)\n",
    "    \n",
    "print('\\n'.join(result))"
   ]
  },
  {
   "cell_type": "code",
   "execution_count": null,
   "metadata": {},
   "outputs": [],
   "source": [
    "n = int(input())\n",
    "\n",
    "cnt = 1\n",
    "stack = []\n",
    "result = []\n",
    "\n",
    "for i in range(1, n+1): # data 개수만큼 반복\n",
    "  data = int(input()) # data 입력받음\n",
    "  while cnt <= data: # 만약 cnt가 data보다 작거나 같으면\n",
    "    stack.append(cnt) # 스택에 push\n",
    "    cnt += 1 #cnt 증가\n",
    "    result.append('+')\n",
    "  if stack[-1] == data: # 스택 맨 윗값과 data 값이 같다면\n",
    "    stack.pop() # stack을 pop\n",
    "    result.append('-')\n",
    "  else: # 앞의 조건에 해당하지 않는다면 stack 이 깨진 것.\n",
    "    print('NO')\n",
    "    exit()\n",
    "    \n",
    "print('\\n'.join(result))"
   ]
  }
 ],
 "metadata": {
  "kernelspec": {
   "display_name": "Python 3.9.7",
   "language": "python",
   "name": "python3"
  },
  "language_info": {
   "codemirror_mode": {
    "name": "ipython",
    "version": 3
   },
   "file_extension": ".py",
   "mimetype": "text/x-python",
   "name": "python",
   "nbconvert_exporter": "python",
   "pygments_lexer": "ipython3",
   "version": "3.9.7"
  },
  "orig_nbformat": 4,
  "vscode": {
   "interpreter": {
    "hash": "74e9318079203a09f5832b2cff9944cf32c1cf832619b9f7664d6003dabd135d"
   }
  }
 },
 "nbformat": 4,
 "nbformat_minor": 2
}
