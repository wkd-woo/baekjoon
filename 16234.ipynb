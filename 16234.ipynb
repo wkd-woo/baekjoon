{
 "cells": [
  {
   "cell_type": "code",
   "execution_count": 6,
   "outputs": [],
   "source": [
    "from collections import deque\n",
    "\n",
    "# 좌표평면 상하좌우\n",
    "dx = [-1, 1, 0, 0]\n",
    "dy = [0, 0, -1, 1]"
   ],
   "metadata": {
    "collapsed": false,
    "pycharm": {
     "name": "#%%\n"
    }
   }
  },
  {
   "cell_type": "code",
   "execution_count": 40,
   "outputs": [],
   "source": [
    "def bfs(x, y):\n",
    "    global border\n",
    "    queue = deque()\n",
    "    queue.append((x, y))\n",
    "\n",
    "    while queue:\n",
    "        x, y = queue.popleft()\n",
    "        for i in range(4):\n",
    "            nx = x + dx[i]  # 상하좌우 돌면서 확인\n",
    "            ny = y + dy[i]\n",
    "\n",
    "            # 그래프 범위에서 벗어나면 생략함\n",
    "            if nx < 0 or nx >= n or ny < 0 or ny >= n:\n",
    "                continue\n",
    "\n",
    "            diff = abs(graph[nx][ny] - graph[x][y])\n",
    "\n",
    "            # 현 위치에서 그래프 값이 1이면\n",
    "            if l <= diff <= r and not border[nx][ny]:\n",
    "                border[x][y] = 1\n",
    "                border[nx][ny] = 1\n",
    "                queue.append((nx, ny))  # 0으로 초기화, 현 위치 좌표를 queue에 추가"
   ],
   "metadata": {
    "collapsed": false,
    "pycharm": {
     "name": "#%%\n"
    }
   }
  },
  {
   "cell_type": "code",
   "execution_count": 69,
   "metadata": {
    "collapsed": true
   },
   "outputs": [],
   "source": [
    "n, l, r = map(int, input().split())"
   ]
  },
  {
   "cell_type": "code",
   "execution_count": 70,
   "outputs": [],
   "source": [
    "graph = [list(map(int, input().split())) for _ in range(n)]"
   ],
   "metadata": {
    "collapsed": false,
    "pycharm": {
     "name": "#%%\n"
    }
   }
  },
  {
   "cell_type": "code",
   "execution_count": 71,
   "outputs": [],
   "source": [
    "border = [[0] * n for _ in range(n)]"
   ],
   "metadata": {
    "collapsed": false,
    "pycharm": {
     "name": "#%%\n"
    }
   }
  },
  {
   "cell_type": "code",
   "execution_count": 72,
   "outputs": [],
   "source": [
    "for i in range(n):\n",
    "    for j in range(n):\n",
    "        bfs(i, j)"
   ],
   "metadata": {
    "collapsed": false,
    "pycharm": {
     "name": "#%%\n"
    }
   }
  },
  {
   "cell_type": "code",
   "execution_count": 73,
   "outputs": [
    {
     "data": {
      "text/plain": "[[0, 0], [0, 0]]"
     },
     "execution_count": 73,
     "metadata": {},
     "output_type": "execute_result"
    }
   ],
   "source": [
    "border"
   ],
   "metadata": {
    "collapsed": false,
    "pycharm": {
     "name": "#%%\n"
    }
   }
  },
  {
   "cell_type": "code",
   "execution_count": 74,
   "outputs": [
    {
     "ename": "ZeroDivisionError",
     "evalue": "integer division or modulo by zero",
     "output_type": "error",
     "traceback": [
      "\u001B[1;31m---------------------------------------------------------------------------\u001B[0m",
      "\u001B[1;31mZeroDivisionError\u001B[0m                         Traceback (most recent call last)",
      "Input \u001B[1;32mIn [74]\u001B[0m, in \u001B[0;36m<module>\u001B[1;34m\u001B[0m\n\u001B[0;32m      6\u001B[0m             mod \u001B[38;5;241m+\u001B[39m\u001B[38;5;241m=\u001B[39m graph[i][j]\n\u001B[0;32m      7\u001B[0m             cnt \u001B[38;5;241m+\u001B[39m\u001B[38;5;241m=\u001B[39m \u001B[38;5;241m1\u001B[39m\n\u001B[1;32m----> 9\u001B[0m mod \u001B[38;5;241m=\u001B[39m \u001B[43mmod\u001B[49m\u001B[43m \u001B[49m\u001B[38;5;241;43m/\u001B[39;49m\u001B[38;5;241;43m/\u001B[39;49m\u001B[43m \u001B[49m\u001B[43mcnt\u001B[49m\n",
      "\u001B[1;31mZeroDivisionError\u001B[0m: integer division or modulo by zero"
     ]
    }
   ],
   "source": [
    "mod = 0\n",
    "cnt = 0\n",
    "for i in range(n):\n",
    "    for j in range(n):\n",
    "        if border[i][j]:\n",
    "            mod += graph[i][j]\n",
    "            cnt += 1\n",
    "if cnt != 0:\n",
    "    mod = mod // cnt"
   ],
   "metadata": {
    "collapsed": false,
    "pycharm": {
     "name": "#%%\n"
    }
   }
  },
  {
   "cell_type": "code",
   "execution_count": 75,
   "outputs": [],
   "source": [
    "for i in range(n):\n",
    "    for j in range(n):\n",
    "        if border[i][j]:\n",
    "            graph[i][j] = mod"
   ],
   "metadata": {
    "collapsed": false,
    "pycharm": {
     "name": "#%%\n"
    }
   }
  },
  {
   "cell_type": "code",
   "execution_count": 76,
   "outputs": [
    {
     "data": {
      "text/plain": "[[50, 30], [30, 40]]"
     },
     "execution_count": 76,
     "metadata": {},
     "output_type": "execute_result"
    }
   ],
   "source": [
    "graph"
   ],
   "metadata": {
    "collapsed": false,
    "pycharm": {
     "name": "#%%\n"
    }
   }
  },
  {
   "cell_type": "code",
   "execution_count": null,
   "outputs": [],
   "source": [],
   "metadata": {
    "collapsed": false,
    "pycharm": {
     "name": "#%%\n"
    }
   }
  }
 ],
 "metadata": {
  "kernelspec": {
   "display_name": "Python 3",
   "language": "python",
   "name": "python3"
  },
  "language_info": {
   "codemirror_mode": {
    "name": "ipython",
    "version": 2
   },
   "file_extension": ".py",
   "mimetype": "text/x-python",
   "name": "python",
   "nbconvert_exporter": "python",
   "pygments_lexer": "ipython2",
   "version": "2.7.6"
  }
 },
 "nbformat": 4,
 "nbformat_minor": 0
}