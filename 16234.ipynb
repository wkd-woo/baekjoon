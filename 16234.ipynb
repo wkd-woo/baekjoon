{
 "cells": [
  {
   "cell_type": "code",
   "execution_count": 23,
   "outputs": [],
   "source": [
    "import copy\n",
    "from collections import deque\n",
    "\n",
    "# 좌표평면 상하좌우\n",
    "dx = [-1, 1, 0, 0]\n",
    "dy = [0, 0, -1, 1]"
   ],
   "metadata": {
    "collapsed": false,
    "pycharm": {
     "name": "#%%\n"
    }
   }
  },
  {
   "cell_type": "code",
   "execution_count": 2,
   "outputs": [],
   "source": [
    "def bfs(x, y):\n",
    "    global border\n",
    "    queue = deque()\n",
    "    queue.append((x, y))\n",
    "\n",
    "    while queue:\n",
    "        x, y = queue.popleft()\n",
    "        for i in range(4):\n",
    "            nx = x + dx[i]  # 상하좌우 돌면서 확인\n",
    "            ny = y + dy[i]\n",
    "\n",
    "            # 그래프 범위에서 벗어나면 생략함\n",
    "            if nx < 0 or nx >= n or ny < 0 or ny >= n:\n",
    "                continue\n",
    "\n",
    "            diff = abs(graph[nx][ny] - graph[x][y])\n",
    "\n",
    "            # 현 위치에서 그래프 값이 1이면\n",
    "            if l <= diff <= r and not border[nx][ny]:\n",
    "                border[x][y] = 1\n",
    "                border[nx][ny] = 1\n",
    "                queue.append((nx, ny))  # 0으로 초기화, 현 위치 좌표를 queue에 추가"
   ],
   "metadata": {
    "collapsed": false,
    "pycharm": {
     "name": "#%%\n"
    }
   }
  },
  {
   "cell_type": "code",
   "execution_count": 12,
   "metadata": {
    "collapsed": true
   },
   "outputs": [],
   "source": [
    "n, l, r = map(int, input().split())"
   ]
  },
  {
   "cell_type": "code",
   "execution_count": 13,
   "outputs": [],
   "source": [
    "changed = 0\n",
    "graph = [list(map(int, input().split())) for _ in range(n)]"
   ],
   "metadata": {
    "collapsed": false,
    "pycharm": {
     "name": "#%%\n"
    }
   }
  },
  {
   "cell_type": "code",
   "execution_count": 25,
   "outputs": [],
   "source": [
    "temp = copy.copy(graph)"
   ],
   "metadata": {
    "collapsed": false,
    "pycharm": {
     "name": "#%%\n"
    }
   }
  },
  {
   "cell_type": "code",
   "execution_count": 26,
   "outputs": [
    {
     "data": {
      "text/plain": "[[50, 30], [20, 40]]"
     },
     "execution_count": 26,
     "metadata": {},
     "output_type": "execute_result"
    }
   ],
   "source": [
    "temp"
   ],
   "metadata": {
    "collapsed": false,
    "pycharm": {
     "name": "#%%\n"
    }
   }
  },
  {
   "cell_type": "code",
   "execution_count": 14,
   "outputs": [],
   "source": [
    "border = [[0] * n for _ in range(n)]"
   ],
   "metadata": {
    "collapsed": false,
    "pycharm": {
     "name": "#%%\n"
    }
   }
  },
  {
   "cell_type": "code",
   "execution_count": 15,
   "outputs": [],
   "source": [
    "for i in range(n):\n",
    "    for j in range(n):\n",
    "        bfs(i, j)"
   ],
   "metadata": {
    "collapsed": false,
    "pycharm": {
     "name": "#%%\n"
    }
   }
  },
  {
   "cell_type": "code",
   "execution_count": 16,
   "outputs": [
    {
     "data": {
      "text/plain": "[[0, 0], [0, 0]]"
     },
     "execution_count": 16,
     "metadata": {},
     "output_type": "execute_result"
    }
   ],
   "source": [
    "border"
   ],
   "metadata": {
    "collapsed": false,
    "pycharm": {
     "name": "#%%\n"
    }
   }
  },
  {
   "cell_type": "code",
   "execution_count": 17,
   "outputs": [],
   "source": [
    "mod = 0\n",
    "cnt = 0\n",
    "for i in range(n):\n",
    "    for j in range(n):\n",
    "        if border[i][j]:\n",
    "            mod += graph[i][j]\n",
    "            cnt += 1\n",
    "if cnt != 0:\n",
    "    mod = mod // cnt"
   ],
   "metadata": {
    "collapsed": false,
    "pycharm": {
     "name": "#%%\n"
    }
   }
  },
  {
   "cell_type": "code",
   "execution_count": 18,
   "outputs": [],
   "source": [
    "for i in range(n):\n",
    "    for j in range(n):\n",
    "        if border[i][j]:\n",
    "            graph[i][j] = mod"
   ],
   "metadata": {
    "collapsed": false,
    "pycharm": {
     "name": "#%%\n"
    }
   }
  },
  {
   "cell_type": "code",
   "execution_count": 19,
   "outputs": [
    {
     "data": {
      "text/plain": "[[50, 30], [20, 40]]"
     },
     "execution_count": 19,
     "metadata": {},
     "output_type": "execute_result"
    }
   ],
   "source": [
    "if temp != graph:\n",
    "    changed += 1\n",
    "    temp = copy.copy(graph)\n",
    "else:\n",
    "    break"
   ],
   "metadata": {
    "collapsed": false,
    "pycharm": {
     "name": "#%%\n"
    }
   }
  },
  {
   "cell_type": "code",
   "execution_count": 20,
   "outputs": [
    {
     "data": {
      "text/plain": "0"
     },
     "execution_count": 20,
     "metadata": {},
     "output_type": "execute_result"
    }
   ],
   "source": [
    "cnt"
   ],
   "metadata": {
    "collapsed": false,
    "pycharm": {
     "name": "#%%\n"
    }
   }
  },
  {
   "cell_type": "code",
   "execution_count": 34,
   "outputs": [
    {
     "name": "stdout",
     "output_type": "stream",
     "text": [
      "2\n"
     ]
    }
   ],
   "source": [
    "import copy\n",
    "from collections import deque\n",
    "\n",
    "# 좌표평면 상하좌우\n",
    "dx = [-1, 1, 0, 0]\n",
    "dy = [0, 0, -1, 1]\n",
    "\n",
    "\n",
    "def bfs(x, y):\n",
    "    global border\n",
    "    queue = deque()\n",
    "    queue.append((x, y))\n",
    "\n",
    "    while queue:\n",
    "        x, y = queue.popleft()\n",
    "        for i in range(4):\n",
    "            nx = x + dx[i]  # 상하좌우 돌면서 확인\n",
    "            ny = y + dy[i]\n",
    "\n",
    "            # 그래프 범위에서 벗어나면 생략함\n",
    "            if nx < 0 or nx >= n or ny < 0 or ny >= n:\n",
    "                continue\n",
    "\n",
    "            diff = abs(graph[nx][ny] - graph[x][y])\n",
    "\n",
    "            # 현 위치에서 그래프 값이 1이면\n",
    "            if l <= diff <= r and not border[nx][ny]:\n",
    "                border[x][y] = 1\n",
    "                border[nx][ny] = 1\n",
    "                queue.append((nx, ny))  # 0으로 초기화, 현 위치 좌표를 queue에 추가\n",
    "\n",
    "\n",
    "n, l, r = map(int, input().split())\n",
    "changed = 0\n",
    "graph = [list(map(int, input().split())) for _ in range(n)]\n",
    "temp = copy.deepcopy(graph)\n",
    "\n",
    "while True:\n",
    "    border = [[0] * n for _ in range(n)]\n",
    "    for i in range(n):\n",
    "        for j in range(n):\n",
    "            bfs(i, j)\n",
    "\n",
    "    mod = 0\n",
    "    cnt = 0\n",
    "    for i in range(n):\n",
    "        for j in range(n):\n",
    "            if border[i][j]:\n",
    "                mod += graph[i][j]\n",
    "                cnt += 1\n",
    "    if cnt != 0:\n",
    "        mod = mod // cnt\n",
    "\n",
    "    for i in range(n):\n",
    "        for j in range(n):\n",
    "            if border[i][j]:\n",
    "                graph[i][j] = mod\n",
    "\n",
    "    if temp != graph:\n",
    "        changed += 1\n",
    "        temp = copy.deepcopy(graph)\n",
    "    else:\n",
    "        break\n",
    "\n",
    "print(changed)"
   ],
   "metadata": {
    "collapsed": false,
    "pycharm": {
     "name": "#%%\n"
    }
   }
  },
  {
   "cell_type": "code",
   "execution_count": 36,
   "outputs": [
    {
     "data": {
      "text/plain": "[[56, 56, 56, 50], [56, 56, 50, 50], [50, 50, 56, 50], [50, 56, 56, 56]]"
     },
     "execution_count": 36,
     "metadata": {},
     "output_type": "execute_result"
    }
   ],
   "source": [
    "temp"
   ],
   "metadata": {
    "collapsed": false,
    "pycharm": {
     "name": "#%%\n"
    }
   }
  },
  {
   "cell_type": "code",
   "execution_count": 37,
   "outputs": [
    {
     "data": {
      "text/plain": "[[56, 56, 56, 50], [56, 56, 50, 50], [50, 50, 56, 50], [50, 56, 56, 56]]"
     },
     "execution_count": 37,
     "metadata": {},
     "output_type": "execute_result"
    }
   ],
   "source": [
    "graph"
   ],
   "metadata": {
    "collapsed": false,
    "pycharm": {
     "name": "#%%\n"
    }
   }
  },
  {
   "cell_type": "code",
   "execution_count": null,
   "outputs": [],
   "source": [],
   "metadata": {
    "collapsed": false,
    "pycharm": {
     "name": "#%%\n"
    }
   }
  }
 ],
 "metadata": {
  "kernelspec": {
   "display_name": "Python 3",
   "language": "python",
   "name": "python3"
  },
  "language_info": {
   "codemirror_mode": {
    "name": "ipython",
    "version": 2
   },
   "file_extension": ".py",
   "mimetype": "text/x-python",
   "name": "python",
   "nbconvert_exporter": "python",
   "pygments_lexer": "ipython2",
   "version": "2.7.6"
  }
 },
 "nbformat": 4,
 "nbformat_minor": 0
}