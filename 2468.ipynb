{
 "cells": [
  {
   "cell_type": "code",
   "execution_count": 40,
   "metadata": {
    "collapsed": true
   },
   "outputs": [],
   "source": [
    "n = 7  # int(input())"
   ]
  },
  {
   "cell_type": "code",
   "execution_count": 41,
   "outputs": [
    {
     "data": {
      "text/plain": "[[9, 9, 9, 9, 9, 9, 9],\n [9, 2, 1, 2, 1, 2, 9],\n [9, 1, 8, 7, 8, 1, 9],\n [9, 2, 7, 9, 7, 2, 9],\n [9, 1, 8, 7, 8, 1, 9],\n [9, 2, 1, 2, 1, 2, 9],\n [9, 9, 9, 9, 9, 9, 9]]"
     },
     "execution_count": 41,
     "metadata": {},
     "output_type": "execute_result"
    }
   ],
   "source": [
    "maps = [list(map(int, list(input().split()))) for _ in range(n)]\n",
    "maps"
   ],
   "metadata": {
    "collapsed": false,
    "pycharm": {
     "name": "#%%\n"
    }
   }
  },
  {
   "cell_type": "code",
   "execution_count": 37,
   "outputs": [],
   "source": [
    "def melting(maps, sea_level):\n",
    "    disaster = [[False for _ in range(len(maps))] for _ in range(len(maps))]\n",
    "    for i, row in enumerate(maps):\n",
    "        for j, land in enumerate(row):\n",
    "            if land > sea_level:\n",
    "                disaster[i][j] = True\n",
    "    return disaster"
   ],
   "metadata": {
    "collapsed": false,
    "pycharm": {
     "name": "#%%\n"
    }
   }
  },
  {
   "cell_type": "code",
   "execution_count": 38,
   "outputs": [],
   "source": [
    "def dfs(x, y, Map):\n",
    "    s = [[x, y]]\n",
    "    Map[x][y] = 1\n",
    "\n",
    "    dx = [0, 0, 1, -1]  #동서남북\n",
    "    dy = [1, -1, 0, 0]\n",
    "    count = 0\n",
    "\n",
    "    while s:\n",
    "        count += 1\n",
    "        x, y = s.pop()\n",
    "        for i in range(4):\n",
    "            nx = x + dx[i]\n",
    "            ny = y + dy[i]\n",
    "            if (0 <= nx < n) and (0 <= ny < n) and (Map[nx][ny] == 0):\n",
    "                s.append([nx, ny])\n",
    "                Map[nx][ny] = 1\n",
    "    return count"
   ],
   "metadata": {
    "collapsed": false,
    "pycharm": {
     "name": "#%%\n"
    }
   }
  },
  {
   "cell_type": "code",
   "execution_count": 42,
   "outputs": [
    {
     "name": "stdout",
     "output_type": "stream",
     "text": [
      "8\n"
     ]
    }
   ],
   "source": [
    "now = 0\n",
    "for i in range(0, max(map(max, maps))):\n",
    "    disaster = melting(maps, i)\n",
    "    count = []\n",
    "\n",
    "    for i in range(n):\n",
    "        for j in range(n):\n",
    "            if disaster[i][j] == 0:\n",
    "                count.append(dfs(i, j, disaster))\n",
    "\n",
    "    temp = len(count)\n",
    "    now = max(temp, now)\n",
    "\n",
    "print(now)"
   ],
   "metadata": {
    "collapsed": false,
    "pycharm": {
     "name": "#%%\n"
    }
   }
  },
  {
   "cell_type": "code",
   "execution_count": 44,
   "outputs": [
    {
     "data": {
      "text/plain": "[24]"
     },
     "execution_count": 44,
     "metadata": {},
     "output_type": "execute_result"
    }
   ],
   "source": [
    "count"
   ],
   "metadata": {
    "collapsed": false,
    "pycharm": {
     "name": "#%%\n"
    }
   }
  },
  {
   "cell_type": "code",
   "execution_count": null,
   "outputs": [],
   "source": [],
   "metadata": {
    "collapsed": false,
    "pycharm": {
     "name": "#%%\n"
    }
   }
  }
 ],
 "metadata": {
  "kernelspec": {
   "display_name": "Python 3",
   "language": "python",
   "name": "python3"
  },
  "language_info": {
   "codemirror_mode": {
    "name": "ipython",
    "version": 2
   },
   "file_extension": ".py",
   "mimetype": "text/x-python",
   "name": "python",
   "nbconvert_exporter": "python",
   "pygments_lexer": "ipython2",
   "version": "2.7.6"
  }
 },
 "nbformat": 4,
 "nbformat_minor": 0
}