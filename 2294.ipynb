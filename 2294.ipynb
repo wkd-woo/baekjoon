{
 "cells": [
  {
   "cell_type": "code",
   "execution_count": 4,
   "outputs": [],
   "source": [
    "n, k = map(int, input().split())\n",
    "weights = [1 for i in range(n)]\n",
    "values = [int(input()) for i in range(n)]\n",
    "\n",
    "dp = [[0 for i in range(k + 1)] for i in range(n + 1)]\n",
    "\n",
    "for i in range(n + 1):\n",
    "    for w in range(k + 1):\n",
    "        if i == 0 or w == 0:  # 물건이 0일 때 - 배낭이 0일 때\n",
    "            dp[i][w] = 0\n",
    "\n",
    "        elif weights[i - 1] <= w:  # 물건을 챙길 수 있을 때\n",
    "            dp[i][w] = min(values[i - 1] + dp[i - 1][w - weights[i - 1]], dp[i - 1][w])  # 가격비교\n",
    "\n",
    "        else:\n",
    "            dp[i][w] = dp[i - 1][w]\n",
    "\n",
    "#print(-1)"
   ],
   "metadata": {
    "collapsed": false,
    "pycharm": {
     "name": "#%%\n"
    }
   }
  },
  {
   "cell_type": "code",
   "execution_count": 5,
   "outputs": [
    {
     "data": {
      "text/plain": "[[1000000000.0,\n  1000000000.0,\n  1000000000.0,\n  1000000000.0,\n  1000000000.0,\n  1000000000.0,\n  1000000000.0,\n  1000000000.0,\n  1000000000.0,\n  1000000000.0,\n  1000000000.0,\n  1000000000.0,\n  1000000000.0,\n  1000000000.0,\n  1000000000.0,\n  1000000000.0],\n [1000000000.0,\n  1000000000.0,\n  1000000000.0,\n  1000000000.0,\n  1000000000.0,\n  1000000000.0,\n  1000000000.0,\n  1000000000.0,\n  1000000000.0,\n  1000000000.0,\n  1000000000.0,\n  1000000000.0,\n  1000000000.0,\n  1000000000.0,\n  1000000000.0,\n  1000000000.0],\n [1000000000.0,\n  1000000000.0,\n  1000000000.0,\n  1000000000.0,\n  1000000000.0,\n  1000000000.0,\n  1000000000.0,\n  1000000000.0,\n  1000000000.0,\n  1000000000.0,\n  1000000000.0,\n  1000000000.0,\n  1000000000.0,\n  1000000000.0,\n  1000000000.0,\n  1000000000.0],\n [1000000000.0,\n  1000000000.0,\n  1000000000.0,\n  1000000000.0,\n  1000000000.0,\n  1000000000.0,\n  1000000000.0,\n  1000000000.0,\n  1000000000.0,\n  1000000000.0,\n  1000000000.0,\n  1000000000.0,\n  1000000000.0,\n  1000000000.0,\n  1000000000.0,\n  1000000000.0]]"
     },
     "execution_count": 5,
     "metadata": {},
     "output_type": "execute_result"
    }
   ],
   "source": [
    "dp"
   ],
   "metadata": {
    "collapsed": false,
    "pycharm": {
     "name": "#%%\n"
    }
   }
  }
 ],
 "metadata": {
  "kernelspec": {
   "display_name": "Python 3",
   "language": "python",
   "name": "python3"
  },
  "language_info": {
   "codemirror_mode": {
    "name": "ipython",
    "version": 2
   },
   "file_extension": ".py",
   "mimetype": "text/x-python",
   "name": "python",
   "nbconvert_exporter": "python",
   "pygments_lexer": "ipython2",
   "version": "2.7.6"
  }
 },
 "nbformat": 4,
 "nbformat_minor": 0
}