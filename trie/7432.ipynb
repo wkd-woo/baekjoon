{
 "cells": [
  {
   "cell_type": "code",
   "execution_count": 1,
   "outputs": [],
   "source": [
    "class Node(object):\n",
    "    def __init__(self, key, data=None):\n",
    "        self.key = key\n",
    "        self.data = data\n",
    "        self.children = {}\n",
    "\n",
    "\n",
    "class Trie:\n",
    "    def __init__(self):\n",
    "        self.head = Node(None)\n",
    "\n",
    "    def insert(self, string):\n",
    "        current_node = self.head\n",
    "\n",
    "        for char in string:\n",
    "            if char not in current_node.children:\n",
    "                current_node.children[char] = Node(char)\n",
    "            current_node = current_node.children[char]\n",
    "        current_node.data = string\n",
    "\n",
    "    def search(self, string):\n",
    "        current_node = self.head\n",
    "\n",
    "        for char in string:\n",
    "            if char not in current_node.children:\n",
    "                return False\n",
    "            else:\n",
    "                current_node = current_node.children[char]\n",
    "\n",
    "        if current_node.children:\n",
    "            return False\n",
    "        return True\n",
    "\n",
    "    def starts_with(self, prefix):\n",
    "        current_node = self.head\n",
    "        words = []\n",
    "\n",
    "        for p in prefix:\n",
    "            if p in current_node.children:\n",
    "                current_node = current_node.children[p]\n",
    "            else:\n",
    "                return None\n",
    "\n",
    "        current_node = [current_node]\n",
    "        next_node = []\n",
    "        while True:\n",
    "            for node in current_node:\n",
    "                if node.data:\n",
    "                    words.append(node.data)\n",
    "                next_node.extend(list(node.children.values()))\n",
    "            if len(next_node) != 0:\n",
    "                current_node = next_node\n",
    "                next_node = []\n",
    "            else:\n",
    "                break\n",
    "\n",
    "        return words"
   ],
   "metadata": {
    "collapsed": false,
    "pycharm": {
     "name": "#%%\n"
    }
   }
  },
  {
   "cell_type": "code",
   "execution_count": 143,
   "metadata": {
    "collapsed": true
   },
   "outputs": [
    {
     "ename": "ValueError",
     "evalue": "invalid literal for int() with base 10: ''",
     "output_type": "error",
     "traceback": [
      "\u001B[1;31m---------------------------------------------------------------------------\u001B[0m",
      "\u001B[1;31mValueError\u001B[0m                                Traceback (most recent call last)",
      "Input \u001B[1;32mIn [143]\u001B[0m, in \u001B[0;36m<module>\u001B[1;34m\u001B[0m\n\u001B[1;32m----> 1\u001B[0m n \u001B[38;5;241m=\u001B[39m \u001B[38;5;28;43mint\u001B[39;49m\u001B[43m(\u001B[49m\u001B[38;5;28;43minput\u001B[39;49m\u001B[43m(\u001B[49m\u001B[43m)\u001B[49m\u001B[43m)\u001B[49m\n\u001B[0;32m      2\u001B[0m trie \u001B[38;5;241m=\u001B[39m Trie()\n\u001B[0;32m      3\u001B[0m k \u001B[38;5;241m=\u001B[39m \u001B[38;5;28mlist\u001B[39m()\n",
      "\u001B[1;31mValueError\u001B[0m: invalid literal for int() with base 10: ''"
     ]
    }
   ],
   "source": [
    "n = int(input())\n",
    "trie = Trie()\n",
    "k = list()\n",
    "for _ in range(n):\n",
    "    l = input().replace('\\\\', ' ').split()\n",
    "    if l not in k:\n",
    "        k.append(l[0])\n",
    "        trie.insert(' '.join(l))\n",
    "\n",
    "k = sorted(set(k))"
   ]
  },
  {
   "cell_type": "code",
   "execution_count": 159,
   "outputs": [
    {
     "name": "stdout",
     "output_type": "stream",
     "text": [
      "GAMES\n",
      " DRIVERS\n",
      "HOME\n",
      "WIN\n",
      " SOFT\n",
      "WINNT\n",
      " DRIVERS\n",
      " SYSTEM32\n",
      "  CERTSRV\n",
      "   CERTCO~1\n",
      "    X86\n",
      "  CONFIG\n"
     ]
    }
   ],
   "source": [
    "started = set()\n",
    "for each in k:\n",
    "    before = set()\n",
    "    temp = [each for each in (set(trie.starts_with(each)))]\n",
    "    if temp[0] in started:\n",
    "        continue\n",
    "    started.add(temp[0])\n",
    "    for each in sorted(temp):\n",
    "        blank = each.count(' ')\n",
    "        each = each.split()\n",
    "\n",
    "        for i, t in enumerate(each):\n",
    "            if t not in before:\n",
    "                print(' ' * i + t)\n",
    "            before.add(t)"
   ],
   "metadata": {
    "collapsed": false,
    "pycharm": {
     "name": "#%%\n"
    }
   }
  },
  {
   "cell_type": "code",
   "execution_count": 166,
   "outputs": [
    {
     "ename": "ValueError",
     "evalue": "invalid literal for int() with base 10: ''",
     "output_type": "error",
     "traceback": [
      "\u001B[1;31m---------------------------------------------------------------------------\u001B[0m",
      "\u001B[1;31mValueError\u001B[0m                                Traceback (most recent call last)",
      "Input \u001B[1;32mIn [166]\u001B[0m, in \u001B[0;36m<module>\u001B[1;34m\u001B[0m\n\u001B[0;32m     42\u001B[0m                 \u001B[38;5;28;01mbreak\u001B[39;00m\n\u001B[0;32m     44\u001B[0m         \u001B[38;5;28;01mreturn\u001B[39;00m words\n\u001B[1;32m---> 47\u001B[0m n \u001B[38;5;241m=\u001B[39m \u001B[38;5;28;43mint\u001B[39;49m\u001B[43m(\u001B[49m\u001B[38;5;28;43minput\u001B[39;49m\u001B[43m(\u001B[49m\u001B[43m)\u001B[49m\u001B[43m)\u001B[49m\n\u001B[0;32m     48\u001B[0m trie \u001B[38;5;241m=\u001B[39m Trie()\n\u001B[0;32m     49\u001B[0m k \u001B[38;5;241m=\u001B[39m \u001B[38;5;28mlist\u001B[39m()\n",
      "\u001B[1;31mValueError\u001B[0m: invalid literal for int() with base 10: ''"
     ]
    }
   ],
   "source": [
    "class Node(object):\n",
    "    def __init__(self, key, data=None):\n",
    "        self.key = key\n",
    "        self.data = data\n",
    "        self.children = {}\n",
    "\n",
    "\n",
    "class Trie:\n",
    "    def __init__(self):\n",
    "        self.head = Node(None)\n",
    "\n",
    "    def insert(self, string):\n",
    "        current_node = self.head\n",
    "\n",
    "        for char in string:\n",
    "            if char not in current_node.children:\n",
    "                current_node.children[char] = Node(char)\n",
    "            current_node = current_node.children[char]\n",
    "        current_node.data = string\n",
    "\n",
    "    def starts_with(self, prefix):\n",
    "        current_node = self.head\n",
    "        words = []\n",
    "\n",
    "        for p in prefix:\n",
    "            if p in current_node.children:\n",
    "                current_node = current_node.children[p]\n",
    "            else:\n",
    "                return None\n",
    "\n",
    "        current_node = [current_node]\n",
    "        next_node = []\n",
    "        while True:\n",
    "            for node in current_node:\n",
    "                if node.data:\n",
    "                    words.append(node.data)\n",
    "                next_node.extend(list(node.children.values()))\n",
    "            if len(next_node) != 0:\n",
    "                current_node = next_node\n",
    "                next_node = []\n",
    "            else:\n",
    "                break\n",
    "\n",
    "        return words\n",
    "\n",
    "\n",
    "n = int(input())\n",
    "trie = Trie()\n",
    "k = list()\n",
    "for _ in range(n):\n",
    "    l = input().replace('\\\\', ' ').split()\n",
    "    if l not in k:\n",
    "        k.append(l[0])\n",
    "        trie.insert(' '.join(l))\n",
    "\n",
    "k = sorted(set(k))\n",
    "\n",
    "started = set()\n",
    "for each in k:\n",
    "    temp = [each for each in (set(trie.starts_with(each)))]\n",
    "    print(temp)\n",
    "    if temp[0] in started:\n",
    "        continue\n",
    "    started.add(temp[0])\n",
    "    for each in sorted(temp):\n",
    "        blank = each.count(' ')\n",
    "        each = each.split()\n",
    "\n",
    "        for i, t in enumerate(each):\n",
    "            pass\n",
    "#            print(' ' * i + t)"
   ],
   "metadata": {
    "collapsed": false,
    "pycharm": {
     "name": "#%%\n"
    }
   }
  },
  {
   "cell_type": "code",
   "execution_count": 201,
   "outputs": [
    {
     "name": "stdout",
     "output_type": "stream",
     "text": [
      "GAMES\n",
      " DRIVERS\n",
      "HOME\n",
      "WIN\n",
      " SOFT\n",
      " DRIVERS\n",
      " SYSTEM32\n",
      "  CERTSRV\n",
      "   CERTCO~1\n",
      "    X86\n",
      " SYSTEM32\n",
      "  CONFIG\n",
      "WINNT\n",
      " DRIVERS\n",
      " SYSTEM32\n",
      "  CERTSRV\n",
      "   CERTCO~1\n",
      "    X86\n",
      " SYSTEM32\n",
      "  CONFIG\n"
     ]
    }
   ],
   "source": [
    "started = set()\n",
    "for each in k:\n",
    "    temp = sorted(each for each in (set(trie.starts_with(each))))\n",
    "    if temp[0].split()[0] in started:\n",
    "        continue\n",
    "    else:\n",
    "        print(temp[0].split()[0])\n",
    "    started.add(temp[0].split()[0])\n",
    "    for each in sorted(temp):\n",
    "        blank = each.count(' ')\n",
    "        each = each.split()\n",
    "        if len(each) > 1:\n",
    "            for i, t in enumerate(each[1:]):\n",
    "                print(' ' * (i + 1) + t)\n",
    "                pass"
   ],
   "metadata": {
    "collapsed": false,
    "pycharm": {
     "name": "#%%\n"
    }
   }
  },
  {
   "cell_type": "code",
   "execution_count": null,
   "outputs": [],
   "source": [],
   "metadata": {
    "collapsed": false,
    "pycharm": {
     "name": "#%%\n"
    }
   }
  }
 ],
 "metadata": {
  "kernelspec": {
   "display_name": "Python 3",
   "language": "python",
   "name": "python3"
  },
  "language_info": {
   "codemirror_mode": {
    "name": "ipython",
    "version": 2
   },
   "file_extension": ".py",
   "mimetype": "text/x-python",
   "name": "python",
   "nbconvert_exporter": "python",
   "pygments_lexer": "ipython2",
   "version": "2.7.6"
  }
 },
 "nbformat": 4,
 "nbformat_minor": 0
}