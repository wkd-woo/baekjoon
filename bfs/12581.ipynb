{
 "cells": [
  {
   "cell_type": "code",
   "execution_count": 1,
   "metadata": {
    "collapsed": true
   },
   "outputs": [
    {
     "ename": "ValueError",
     "evalue": "not enough values to unpack (expected 2, got 0)",
     "output_type": "error",
     "traceback": [
      "\u001b[1;31m---------------------------------------------------------------------------\u001b[0m",
      "\u001b[1;31mValueError\u001b[0m                                Traceback (most recent call last)",
      "Cell \u001b[1;32mIn [1], line 4\u001b[0m\n\u001b[0;32m      1\u001b[0m \u001b[39mfrom\u001b[39;00m \u001b[39mcollections\u001b[39;00m \u001b[39mimport\u001b[39;00m deque\n\u001b[0;32m      3\u001b[0m MAX \u001b[39m=\u001b[39m \u001b[39m100001\u001b[39m\n\u001b[1;32m----> 4\u001b[0m n, k \u001b[39m=\u001b[39m \u001b[39mmap\u001b[39m(\u001b[39mint\u001b[39m, \u001b[39minput\u001b[39m()\u001b[39m.\u001b[39msplit())\n\u001b[0;32m      5\u001b[0m l \u001b[39m=\u001b[39m [\u001b[39m0\u001b[39m] \u001b[39m*\u001b[39m MAX\n\u001b[0;32m      8\u001b[0m \u001b[39mdef\u001b[39;00m \u001b[39mbfs\u001b[39m():\n",
      "\u001b[1;31mValueError\u001b[0m: not enough values to unpack (expected 2, got 0)"
     ]
    }
   ],
   "source": [
    "from collections import deque\n",
    "\n",
    "MAX = 100001\n",
    "n, k = map(int, input().split())\n",
    "l = [0] * MAX\n",
    "\n",
    "\n",
    "def bfs():\n",
    "    q = deque([n])\n",
    "    cnt = 0\n",
    "    while q:\n",
    "        now_pos = q.popleft()\n",
    "        if now_pos == k:\n",
    "            cnt += 1\n",
    "        for next_pos in (now_pos - 1, now_pos + 1, now_pos * 2):\n",
    "            if 0 <= next_pos < MAX:\n",
    "                if not l[next_pos]:  # 방문하지 않았다면\n",
    "                    l[next_pos] = l[now_pos] + 1\n",
    "                    q.append(next_pos)\n",
    "                elif l[next_pos] == l[now_pos] + 1:\n",
    "                    q.append(next_pos)\n",
    "\n",
    "    return l[k], cnt\n",
    "\n",
    "\n",
    "result = bfs()\n",
    "if n == k:\n",
    "    print(0)\n",
    "    print(1)\n",
    "else:\n",
    "    print(*result, end='\\n')"
   ]
  },
  {
   "cell_type": "code",
   "execution_count": null,
   "metadata": {
    "collapsed": false,
    "pycharm": {
     "name": "#%%\n"
    }
   },
   "outputs": [],
   "source": []
  }
 ],
 "metadata": {
  "kernelspec": {
   "display_name": "Python 3.8.6 ('venv': venv)",
   "language": "python",
   "name": "python3"
  },
  "language_info": {
   "codemirror_mode": {
    "name": "ipython",
    "version": 3
   },
   "file_extension": ".py",
   "mimetype": "text/x-python",
   "name": "python",
   "nbconvert_exporter": "python",
   "pygments_lexer": "ipython3",
   "version": "3.8.6"
  },
  "vscode": {
   "interpreter": {
    "hash": "55620e4411dedaced3d02f7a91a55b88db08010c67aa36ab19ca3c34a530be0f"
   }
  }
 },
 "nbformat": 4,
 "nbformat_minor": 0
}
