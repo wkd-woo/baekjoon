{
 "cells": [
  {
   "cell_type": "code",
   "execution_count": 39,
   "metadata": {
    "collapsed": true
   },
   "outputs": [
    {
     "name": "stdout",
     "output_type": "stream",
     "text": [
      "27 2\n"
     ]
    }
   ],
   "source": [
    "from collections import deque\n",
    "\n",
    "MAX = 100001\n",
    "n, k = map(int, input().split())\n",
    "l = [0] * MAX\n",
    "\n",
    "\n",
    "def bfs():\n",
    "    q = deque([n])\n",
    "    cnt = 0\n",
    "    while q:\n",
    "        now_pos = q.popleft()\n",
    "        if now_pos == k:\n",
    "            cnt += 1\n",
    "        for next_pos in (now_pos - 1, now_pos + 1, now_pos * 2):\n",
    "            if 0 <= next_pos < MAX:\n",
    "                if not l[next_pos]:  # 방문하지 않았다면\n",
    "                    l[next_pos] = l[now_pos] + 1\n",
    "                    q.append(next_pos)\n",
    "                elif l[next_pos] == l[now_pos] + 1:\n",
    "                    q.append(next_pos)\n",
    "\n",
    "    return l[k], cnt\n",
    "\n",
    "\n",
    "result = bfs()\n",
    "if n == k:\n",
    "    print(0)\n",
    "    print(1)\n",
    "else:\n",
    "    print(*result, end='\\n')"
   ]
  },
  {
   "cell_type": "code",
   "execution_count": null,
   "outputs": [],
   "source": [],
   "metadata": {
    "collapsed": false,
    "pycharm": {
     "name": "#%%\n"
    }
   }
  }
 ],
 "metadata": {
  "kernelspec": {
   "display_name": "Python 3",
   "language": "python",
   "name": "python3"
  },
  "language_info": {
   "codemirror_mode": {
    "name": "ipython",
    "version": 2
   },
   "file_extension": ".py",
   "mimetype": "text/x-python",
   "name": "python",
   "nbconvert_exporter": "python",
   "pygments_lexer": "ipython2",
   "version": "2.7.6"
  }
 },
 "nbformat": 4,
 "nbformat_minor": 0
}