{
 "cells": [
  {
   "cell_type": "code",
   "execution_count": 2,
   "metadata": {
    "collapsed": true
   },
   "outputs": [],
   "source": [
    "n = int(input())"
   ]
  },
  {
   "cell_type": "code",
   "execution_count": 5,
   "outputs": [
    {
     "name": "stdout",
     "output_type": "stream",
     "text": [
      "1\n"
     ]
    }
   ],
   "source": [
    "n = 2\n",
    "cnt = 0\n",
    "\n",
    "loop = 1\n",
    "while loop:\n",
    "    if n == 1:\n",
    "        loop = 0\n",
    "        break\n",
    "\n",
    "    if n > 3:\n",
    "        if n % 3 == 1:\n",
    "            n = (n - 1) // 3\n",
    "            cnt += 2\n",
    "        elif n % 2 == 1:\n",
    "            n = (n - 1) // 2\n",
    "            cnt += 2\n",
    "        elif n % 3 == 0:\n",
    "            n = n // 3\n",
    "            cnt += 1\n",
    "        elif n % 2 == 0:\n",
    "            n = n // 3\n",
    "            cnt += 1\n",
    "    if n == 3:\n",
    "        n = n // 3\n",
    "        cnt += 1\n",
    "    elif n == 2:\n",
    "        n = n // 2\n",
    "        cnt += 1\n",
    "\n",
    "print(cnt)"
   ],
   "metadata": {
    "collapsed": false,
    "pycharm": {
     "name": "#%%\n"
    }
   }
  },
  {
   "cell_type": "code",
   "execution_count": null,
   "outputs": [],
   "source": [],
   "metadata": {
    "collapsed": false,
    "pycharm": {
     "name": "#%%\n"
    }
   }
  }
 ],
 "metadata": {
  "kernelspec": {
   "display_name": "Python 3",
   "language": "python",
   "name": "python3"
  },
  "language_info": {
   "codemirror_mode": {
    "name": "ipython",
    "version": 2
   },
   "file_extension": ".py",
   "mimetype": "text/x-python",
   "name": "python",
   "nbconvert_exporter": "python",
   "pygments_lexer": "ipython2",
   "version": "2.7.6"
  }
 },
 "nbformat": 4,
 "nbformat_minor": 0
}