{
 "cells": [
  {
   "cell_type": "code",
   "execution_count": 6,
   "metadata": {
    "collapsed": true,
    "pycharm": {
     "name": "#%%\n"
    }
   },
   "outputs": [
    {
     "name": "stdout",
     "output_type": "stream",
     "text": [
      "3\n",
      "9\n",
      "27\n"
     ]
    }
   ],
   "source": [
    "t = int(input())\n",
    "\n",
    "dp = [[0 for _ in range(3)] for _ in range(1000001)]\n",
    "dp[1] = [1, 0, 0]\n",
    "dp[2] = [0, 1, 0]\n",
    "dp[3] = [1, 1, 1]\n",
    "\n",
    "for i in range(4, 1000001):\n",
    "    dp[i][0] = dp[i - 1][1] % 1000000009 + dp[i - 1][2] % 1000000009\n",
    "    dp[i][1] = dp[i - 2][0] % 1000000009 + dp[i - 2][2] % 1000000009\n",
    "    dp[i][2] = dp[i - 3][0] % 1000000009 + dp[i - 3][1] % 1000000009\n",
    "\n",
    "for _ in range(t):\n",
    "    n = int(input())\n",
    "    print(sum(dp[n]) % 1000000009)"
   ]
  }
 ],
 "metadata": {
  "kernelspec": {
   "display_name": "Python 3",
   "language": "python",
   "name": "python3"
  },
  "language_info": {
   "codemirror_mode": {
    "name": "ipython",
    "version": 2
   },
   "file_extension": ".py",
   "mimetype": "text/x-python",
   "name": "python",
   "nbconvert_exporter": "python",
   "pygments_lexer": "ipython2",
   "version": "2.7.6"
  }
 },
 "nbformat": 4,
 "nbformat_minor": 0
}