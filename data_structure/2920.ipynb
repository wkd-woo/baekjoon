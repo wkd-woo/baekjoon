{
 "cells": [
  {
   "cell_type": "code",
   "execution_count": 8,
   "metadata": {},
   "outputs": [
    {
     "name": "stdout",
     "output_type": "stream",
     "text": [
      "ascending\n"
     ]
    }
   ],
   "source": [
    "l = list(map(int, input().split()))\n",
    "asc_l = sorted(l)\n",
    "dsc_l = sorted(l, reverse=True)\n",
    "\n",
    "if l == asc_l:\n",
    "  print(\"ascending\")\n",
    "elif l == dsc_l:\n",
    "  print(\"descending\")\n",
    "else:\n",
    "  print(\"mixed\")"
   ]
  },
  {
   "cell_type": "code",
   "execution_count": null,
   "metadata": {},
   "outputs": [],
   "source": []
  }
 ],
 "metadata": {
  "kernelspec": {
   "display_name": "Python 3.9.7",
   "language": "python",
   "name": "python3"
  },
  "language_info": {
   "codemirror_mode": {
    "name": "ipython",
    "version": 3
   },
   "file_extension": ".py",
   "mimetype": "text/x-python",
   "name": "python",
   "nbconvert_exporter": "python",
   "pygments_lexer": "ipython3",
   "version": "3.9.7"
  },
  "orig_nbformat": 4,
  "vscode": {
   "interpreter": {
    "hash": "74e9318079203a09f5832b2cff9944cf32c1cf832619b9f7664d6003dabd135d"
   }
  }
 },
 "nbformat": 4,
 "nbformat_minor": 2
}
