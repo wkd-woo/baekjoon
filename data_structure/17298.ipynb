{
 "cells": [
  {
   "cell_type": "code",
   "execution_count": null,
   "outputs": [],
   "source": [
    "n = int(input())\n",
    "l = list(map(int, input().split()))\n",
    "stack = []\n",
    "NGE = [-1] * n\n",
    "\n",
    "for i in range(n):\n",
    "    x = l[i]  # 하나씩 수 확인\n",
    "    if not stack or stack[-1][0] >= x:\n",
    "        stack.append((x, i))  # (수, 인덱스) 형태로 삽입\n",
    "    else:\n",
    "        while stack:\n",
    "            previous, index = stack.pop()  # 역방향으로 하나씩 꺼내기\n",
    "            if previous >= x:  # 꺼낸 수가 현재 수보다 크다면\n",
    "                stack.append((previous, index))  # 다시 스택에 넣음\n",
    "                break  # 다음 수로 넘어감\n",
    "            else:  # 이전 수가 현재 수보다 작으면\n",
    "                NGE[index] = x  # 오큰수 기록, 스택이 비어있지 않으면 또 꺼내게 될 것이다.\n",
    "        stack.append((x, i))  # (수, 인덱스) 형태로 삽입\n",
    "\n",
    "for x in NGE:  # 오큰수를 하나씩 출력\n",
    "    print(x, end=' ')"
   ],
   "metadata": {
    "collapsed": false,
    "pycharm": {
     "name": "#%%\n"
    }
   }
  }
 ],
 "metadata": {
  "kernelspec": {
   "display_name": "Python 3",
   "language": "python",
   "name": "python3"
  },
  "language_info": {
   "codemirror_mode": {
    "name": "ipython",
    "version": 2
   },
   "file_extension": ".py",
   "mimetype": "text/x-python",
   "name": "python",
   "nbconvert_exporter": "python",
   "pygments_lexer": "ipython2",
   "version": "2.7.6"
  }
 },
 "nbformat": 4,
 "nbformat_minor": 0
}