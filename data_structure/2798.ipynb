{
 "cells": [
  {
   "cell_type": "code",
   "execution_count": 27,
   "metadata": {},
   "outputs": [],
   "source": [
    "from itertools import combinations\n",
    "\n",
    "n, m = map(int, input().split())\n",
    "l = sorted(map(int, input().split()))\n",
    "\n",
    "mx = 0\n",
    "for each in combinations(l, 3):\n",
    "  if sum(each) <= m:\n",
    "    mx = max(mx, sum(each))\n",
    "    \n",
    "print(mx)"
   ]
  },
  {
   "cell_type": "code",
   "execution_count": null,
   "metadata": {},
   "outputs": [],
   "source": [
    "# 완전탐색 방법\n",
    "n, m = list(map(int, input().split()))\n",
    "data = list(map(int, input().split()))\n",
    "\n",
    "result = 0\n",
    "length = len(data)\n",
    "\n",
    "for i in range(0, length):\n",
    "  for j in range(i+1, length):\n",
    "    for k in range(j+1, length):\n",
    "      sum_value = data[i] + data[j] + data[k]\n",
    "      if sum_value <= m:\n",
    "        result = max(result, sum_value)\n",
    "        \n",
    "print(result)"
   ]
  }
 ],
 "metadata": {
  "kernelspec": {
   "display_name": "Python 3.9.7",
   "language": "python",
   "name": "python3"
  },
  "language_info": {
   "codemirror_mode": {
    "name": "ipython",
    "version": 3
   },
   "file_extension": ".py",
   "mimetype": "text/x-python",
   "name": "python",
   "nbconvert_exporter": "python",
   "pygments_lexer": "ipython3",
   "version": "3.9.7"
  },
  "orig_nbformat": 4,
  "vscode": {
   "interpreter": {
    "hash": "74e9318079203a09f5832b2cff9944cf32c1cf832619b9f7664d6003dabd135d"
   }
  }
 },
 "nbformat": 4,
 "nbformat_minor": 2
}
