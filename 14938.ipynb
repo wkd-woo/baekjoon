{
 "cells": [
  {
   "cell_type": "code",
   "execution_count": 1,
   "outputs": [],
   "source": [
    "from sys import stdin\n",
    "\n",
    "#input = stdin.readline\n",
    "INF = int(1e9)  # 무한을 의미하는 값으로 10억을 설정"
   ],
   "metadata": {
    "collapsed": false,
    "pycharm": {
     "name": "#%%\n"
    }
   }
  },
  {
   "cell_type": "code",
   "execution_count": 2,
   "outputs": [],
   "source": [
    "n, m, r = map(int, input().split())"
   ],
   "metadata": {
    "collapsed": false,
    "pycharm": {
     "name": "#%%\n"
    }
   }
  },
  {
   "cell_type": "code",
   "execution_count": 3,
   "outputs": [],
   "source": [
    "items = list(map(int, input().split()))"
   ],
   "metadata": {
    "collapsed": false,
    "pycharm": {
     "name": "#%%\n"
    }
   }
  },
  {
   "cell_type": "code",
   "execution_count": 69,
   "metadata": {
    "collapsed": true
   },
   "outputs": [],
   "source": [
    "graph = [[INF] * n for _ in range(n)]\n",
    "\n",
    "for _ in range(r):\n",
    "    start, end, cost = map(int, input().split())\n",
    "    graph[start - 1][end - 1] = cost\n",
    "    graph[end - 1][start - 1] = cost"
   ]
  },
  {
   "cell_type": "code",
   "execution_count": 70,
   "outputs": [
    {
     "data": {
      "text/plain": "[[1000000000, 3, 1000000000, 5, 1000000000],\n [3, 1000000000, 3, 1000000000, 4],\n [1000000000, 3, 1000000000, 1000000000, 1000000000],\n [5, 1000000000, 1000000000, 1000000000, 1000000000],\n [1000000000, 4, 1000000000, 1000000000, 1000000000]]"
     },
     "execution_count": 70,
     "metadata": {},
     "output_type": "execute_result"
    }
   ],
   "source": [
    "graph"
   ],
   "metadata": {
    "collapsed": false,
    "pycharm": {
     "name": "#%%\n"
    }
   }
  },
  {
   "cell_type": "code",
   "execution_count": 90,
   "outputs": [],
   "source": [
    "graph = [[1000000000, 3, 1000000000, 5, 1000000000],\n",
    "         [3, 1000000000, 3, 1000000000, 4],\n",
    "         [1000000000, 3, 1000000000, 1000000000, 1000000000],\n",
    "         [5, 1000000000, 1000000000, 1000000000, 1000000000],\n",
    "         [1000000000, 4, 1000000000, 1000000000, 1000000000]]"
   ],
   "metadata": {
    "collapsed": false,
    "pycharm": {
     "name": "#%%\n"
    }
   }
  },
  {
   "cell_type": "code",
   "execution_count": 91,
   "outputs": [
    {
     "data": {
      "text/plain": "[[1000000000, 3, 1000000000, 5, 1000000000],\n [3, 1000000000, 3, 1000000000, 4],\n [1000000000, 3, 1000000000, 1000000000, 1000000000],\n [5, 1000000000, 1000000000, 1000000000, 1000000000],\n [1000000000, 4, 1000000000, 1000000000, 1000000000]]"
     },
     "execution_count": 91,
     "metadata": {},
     "output_type": "execute_result"
    }
   ],
   "source": [
    "graph"
   ],
   "metadata": {
    "collapsed": false,
    "pycharm": {
     "name": "#%%\n"
    }
   }
  },
  {
   "cell_type": "code",
   "execution_count": 92,
   "outputs": [],
   "source": [
    "# 플로이드-워셜 알고리즘\n",
    "for k in range(n):  # 경로 for문이 가장 상위 단계여야 누락되지 않는다\n",
    "    graph[k][k] = 0\n",
    "    for i in range(n):\n",
    "        for j in range(n):\n",
    "            graph[i][j] = min(graph[i][k] + graph[k][j], graph[i][j])"
   ],
   "metadata": {
    "collapsed": false,
    "pycharm": {
     "name": "#%%\n"
    }
   }
  },
  {
   "cell_type": "code",
   "execution_count": 93,
   "outputs": [
    {
     "data": {
      "text/plain": "[[0, 3, 6, 5, 7],\n [3, 0, 3, 8, 4],\n [6, 3, 0, 11, 7],\n [5, 8, 11, 0, 12],\n [7, 4, 7, 12, 0]]"
     },
     "execution_count": 93,
     "metadata": {},
     "output_type": "execute_result"
    }
   ],
   "source": [
    "graph"
   ],
   "metadata": {
    "collapsed": false,
    "pycharm": {
     "name": "#%%\n"
    }
   }
  },
  {
   "cell_type": "code",
   "execution_count": 94,
   "outputs": [
    {
     "name": "stdout",
     "output_type": "stream",
     "text": [
      "23\n"
     ]
    }
   ],
   "source": [
    "maxItem = 0\n",
    "for each in graph:\n",
    "    tmp = 0\n",
    "    for i in range(n):\n",
    "        if each[i] <= m:\n",
    "            tmp += items[i]\n",
    "    maxItem = max(maxItem, tmp)\n",
    "print(maxItem)"
   ],
   "metadata": {
    "collapsed": false,
    "pycharm": {
     "name": "#%%\n"
    }
   }
  },
  {
   "cell_type": "code",
   "execution_count": 88,
   "outputs": [
    {
     "data": {
      "text/plain": "[[0, 3, 6, 5, 0],\n [3, 0, 3, 0, 4],\n [6, 3, 0, 0, 0],\n [5, 0, 0, 0, 0],\n [0, 4, 0, 0, 0]]"
     },
     "execution_count": 88,
     "metadata": {},
     "output_type": "execute_result"
    }
   ],
   "source": [
    "graph"
   ],
   "metadata": {
    "collapsed": false,
    "pycharm": {
     "name": "#%%\n"
    }
   }
  },
  {
   "cell_type": "code",
   "execution_count": null,
   "outputs": [],
   "source": [],
   "metadata": {
    "collapsed": false,
    "pycharm": {
     "name": "#%%\n"
    }
   }
  }
 ],
 "metadata": {
  "kernelspec": {
   "display_name": "Python 3",
   "language": "python",
   "name": "python3"
  },
  "language_info": {
   "codemirror_mode": {
    "name": "ipython",
    "version": 2
   },
   "file_extension": ".py",
   "mimetype": "text/x-python",
   "name": "python",
   "nbconvert_exporter": "python",
   "pygments_lexer": "ipython2",
   "version": "2.7.6"
  }
 },
 "nbformat": 4,
 "nbformat_minor": 0
}