{
 "cells": [
  {
   "cell_type": "code",
   "execution_count": 1,
   "metadata": {
    "collapsed": true
   },
   "outputs": [],
   "source": [
    "n, k = map(int, input().split())  # n: 동전의 수 k: 목표"
   ]
  },
  {
   "cell_type": "code",
   "execution_count": 2,
   "outputs": [
    {
     "ename": "ValueError",
     "evalue": "not enough values to unpack (expected 2, got 1)",
     "output_type": "error",
     "traceback": [
      "\u001B[1;31m---------------------------------------------------------------------------\u001B[0m",
      "\u001B[1;31mValueError\u001B[0m                                Traceback (most recent call last)",
      "Input \u001B[1;32mIn [2]\u001B[0m, in \u001B[0;36m<module>\u001B[1;34m\u001B[0m\n\u001B[0;32m      2\u001B[0m values \u001B[38;5;241m=\u001B[39m []\n\u001B[0;32m      3\u001B[0m \u001B[38;5;28;01mfor\u001B[39;00m i \u001B[38;5;129;01min\u001B[39;00m \u001B[38;5;28mrange\u001B[39m(n): \u001B[38;5;66;03m# w: 물건의 무게, v: 물건의 가격\u001B[39;00m\n\u001B[1;32m----> 4\u001B[0m     w, v \u001B[38;5;241m=\u001B[39m \u001B[38;5;28mmap\u001B[39m(\u001B[38;5;28mint\u001B[39m, \u001B[38;5;28minput\u001B[39m()\u001B[38;5;241m.\u001B[39msplit())\n\u001B[0;32m      5\u001B[0m     weights\u001B[38;5;241m.\u001B[39mappend(w)\n\u001B[0;32m      6\u001B[0m     values\u001B[38;5;241m.\u001B[39mappend(v)\n",
      "\u001B[1;31mValueError\u001B[0m: not enough values to unpack (expected 2, got 1)"
     ]
    }
   ],
   "source": [
    "v = []\n",
    "for i in range(n):  # v: 동전가치\n",
    "    v.append(int(input()))\n",
    "\n",
    "dp = [[0 for i in range(k + 1)] for i in range(n + 1)]\n",
    "\n",
    "for i in range(n + 1):\n",
    "    for w in range(k + 1):\n",
    "        if w == 0:  # 금액이 0일 때\n",
    "            dp[i][w] = 0\n",
    "\n",
    "        elif v[i] <= w:  # 물건을 챙길 수 있을 때\n",
    "            dp[i][w] = max(values[i - 1] + dp[i - 1][w - weights[i - 1]], dp[i - 1][w])  # 가격비교\n",
    "\n",
    "        else:\n",
    "            dp[i][w] = dp[i - 1][w]\n",
    "\n",
    "print(dp[n][k])"
   ],
   "metadata": {
    "collapsed": false,
    "pycharm": {
     "name": "#%%\n"
    }
   }
  },
  {
   "cell_type": "code",
   "execution_count": null,
   "outputs": [],
   "source": [],
   "metadata": {
    "collapsed": false,
    "pycharm": {
     "name": "#%%\n"
    }
   }
  }
 ],
 "metadata": {
  "kernelspec": {
   "display_name": "Python 3",
   "language": "python",
   "name": "python3"
  },
  "language_info": {
   "codemirror_mode": {
    "name": "ipython",
    "version": 2
   },
   "file_extension": ".py",
   "mimetype": "text/x-python",
   "name": "python",
   "nbconvert_exporter": "python",
   "pygments_lexer": "ipython2",
   "version": "2.7.6"
  }
 },
 "nbformat": 4,
 "nbformat_minor": 0
}