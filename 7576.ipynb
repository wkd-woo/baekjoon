{
 "cells": [
  {
   "cell_type": "code",
   "execution_count": 14,
   "metadata": {
    "collapsed": true,
    "pycharm": {
     "name": "#%%\n"
    }
   },
   "outputs": [
    {
     "name": "stdout",
     "output_type": "stream",
     "text": [
      "2\n"
     ]
    }
   ],
   "source": [
    "from collections import deque\n",
    "\n",
    "#input = stdin.readline\n",
    "\n",
    "# 좌표평면 상하좌우\n",
    "dx = [-1, 1, 0, 0, 0, 0]\n",
    "dy = [0, 0, -1, 1, 0, 0]\n",
    "dz = [0, 0, 0, 0, -1, 1]\n",
    "\n",
    "\n",
    "def bfs():\n",
    "    while q:\n",
    "        z, x, y = q.popleft()\n",
    "\n",
    "        for i in range(6):\n",
    "            nx = x + dx[i]  # 상하좌우 돌면서 확인\n",
    "            ny = y + dy[i]\n",
    "            nz = z + dz[i]\n",
    "\n",
    "            # 그래프 범위에서 벗어나면 생략함\n",
    "            if nx < 0 or nx >= m or ny < 0 or ny >= n or nz < 0 or nz >= h:\n",
    "                continue\n",
    "\n",
    "            # 현 위치에서 그래프 값이 0이면\n",
    "            if tomato[nz][nx][ny] == 0:\n",
    "                tomato[nz][nx][nx] = tomato[z][x][y] + 1\n",
    "                queue.append((nz, nx, nx))  # 현 위치 좌표를 queue에 추가\n",
    "    return\n",
    "\n",
    "\n",
    "n, m, h = map(int, input().split())\n",
    "tomato = [[list(map(int, input().split())) for _ in range(m)] for _ in range(h)]\n",
    "queue = deque()\n",
    "\n",
    "q = deque()\n",
    "for i in range(h):\n",
    "    for j in range(m):\n",
    "        for k in range(n):\n",
    "            if tomato[i][j][k] == 1:\n",
    "                q.append((i, j, k))\n",
    "\n",
    "bfs()\n",
    "res = 0\n",
    "for i in tomato:\n",
    "    for each in i:\n",
    "        if -1 in each:\n",
    "            print(-1)\n",
    "            break\n",
    "        res = max(res, max(each))\n",
    "    else:\n",
    "        continue\n",
    "    break\n",
    "else:\n",
    "    print(res)"
   ]
  },
  {
   "cell_type": "code",
   "execution_count": 16,
   "outputs": [
    {
     "name": "stdout",
     "output_type": "stream",
     "text": [
      "-1\n"
     ]
    }
   ],
   "source": [
    "res = 0\n",
    "for i in tomato:\n",
    "    for each in i:\n",
    "        if 0 in each:\n",
    "            print(-1)\n",
    "            break\n",
    "        res = max(res, max(each))\n",
    "    else:\n",
    "        continue\n",
    "    break\n",
    "else:\n",
    "    print(res)"
   ],
   "metadata": {
    "collapsed": false,
    "pycharm": {
     "name": "#%%\n"
    }
   }
  },
  {
   "cell_type": "code",
   "execution_count": 15,
   "outputs": [
    {
     "data": {
      "text/plain": "[[[0, 0, 0, 0, 0], [0, 2, 0, 0, 0], [0, 0, 0, 0, 0]],\n [[2, 0, 0, 0, 0], [0, 2, 1, 0, 0], [0, 0, 2, 0, 0]]]"
     },
     "execution_count": 15,
     "metadata": {},
     "output_type": "execute_result"
    }
   ],
   "source": [
    "tomato"
   ],
   "metadata": {
    "collapsed": false,
    "pycharm": {
     "name": "#%%\n"
    }
   }
  },
  {
   "cell_type": "code",
   "execution_count": null,
   "outputs": [],
   "source": [],
   "metadata": {
    "collapsed": false,
    "pycharm": {
     "name": "#%%\n"
    }
   }
  }
 ],
 "metadata": {
  "kernelspec": {
   "display_name": "Python 3",
   "language": "python",
   "name": "python3"
  },
  "language_info": {
   "codemirror_mode": {
    "name": "ipython",
    "version": 2
   },
   "file_extension": ".py",
   "mimetype": "text/x-python",
   "name": "python",
   "nbconvert_exporter": "python",
   "pygments_lexer": "ipython2",
   "version": "2.7.6"
  }
 },
 "nbformat": 4,
 "nbformat_minor": 0
}