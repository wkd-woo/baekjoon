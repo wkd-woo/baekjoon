{
 "cells": [
  {
   "cell_type": "code",
   "execution_count": 18,
   "metadata": {
    "collapsed": true,
    "pycharm": {
     "name": "#%%\n"
    }
   },
   "outputs": [],
   "source": [
    "from collections import deque\n",
    "\n",
    "\n",
    "def dfs(graph, start_node):\n",
    "    visited = []\n",
    "    stack = deque()\n",
    "\n",
    "    stack.append(start_node)\n",
    "    if not colors[start_node]:\n",
    "        colors[start_node] = 1\n",
    "\n",
    "    while stack:\n",
    "        node = stack.pop()\n",
    "\n",
    "        if node not in visited:\n",
    "            visited.append(node)\n",
    "            for i in graph[node]:\n",
    "                if colors[node] == 1:\n",
    "                    colors[i] = 2\n",
    "                elif colors[node] == 2:\n",
    "                    colors[i] = 1\n",
    "\n",
    "            stack += reversed(graph[node])\n",
    "\n",
    "\n",
    "def chk(graph, start_node):\n",
    "    visited = []\n",
    "    stack = deque()\n",
    "\n",
    "    stack.append(start_node)\n",
    "\n",
    "    while stack:\n",
    "        node = stack.pop()\n",
    "\n",
    "        if node not in visited:\n",
    "            visited.append(node)\n",
    "            for i in graph[node]:\n",
    "                if colors[node] == 1 and colors[i] == 2:\n",
    "                    pass\n",
    "                else:\n",
    "                    return False\n",
    "\n",
    "                if colors[node] == 2 and colors[node] == 1:\n",
    "                    pass\n",
    "                else:\n",
    "                    return False\n",
    "\n",
    "            stack += reversed(graph[node])\n",
    "\n",
    "    return False"
   ]
  },
  {
   "cell_type": "code",
   "execution_count": null,
   "outputs": [],
   "source": [
    "k = int(input())\n",
    "\n",
    "for _ in range(k):\n",
    "    v, e = map(int, input().split())\n",
    "    graph = {i: [] for i in range(1, v + 1)}\n",
    "\n",
    "    for i in range(e):\n",
    "        start, end = map(int, input().split())\n",
    "        graph[start].append(end)\n",
    "        graph[end].append(start)\n",
    "\n",
    "    for key in graph:\n",
    "        graph[key].sort()\n",
    "\n",
    "    dfs(1)\n",
    "\n",
    "\n"
   ],
   "metadata": {
    "collapsed": false,
    "pycharm": {
     "name": "#%%\n"
    }
   }
  },
  {
   "cell_type": "code",
   "execution_count": 19,
   "outputs": [
    {
     "name": "stdout",
     "output_type": "stream",
     "text": [
      "NO\n"
     ]
    }
   ],
   "source": [
    "v, e = map(int, input().split())\n",
    "graph = {i: [] for i in range(1, v + 1)}\n",
    "\n",
    "for i in range(e):\n",
    "    start, end = map(int, input().split())\n",
    "    graph[start].append(end)\n",
    "    graph[end].append(start)\n",
    "\n",
    "for key in graph:\n",
    "    graph[key].sort()\n",
    "\n",
    "colors = [0] * (v + 1)\n",
    "for key in graph:\n",
    "    dfs(graph, key)\n",
    "\n",
    "for key in graph:\n",
    "    if chk(graph, key):\n",
    "        print(\"YES\")\n",
    "    else:\n",
    "        print(\"NO\")\n",
    "        break\n"
   ],
   "metadata": {
    "collapsed": false,
    "pycharm": {
     "name": "#%%\n"
    }
   }
  },
  {
   "cell_type": "code",
   "execution_count": 20,
   "outputs": [
    {
     "data": {
      "text/plain": "[0, 1, 1, 2]"
     },
     "execution_count": 20,
     "metadata": {},
     "output_type": "execute_result"
    }
   ],
   "source": [
    "colors"
   ],
   "metadata": {
    "collapsed": false,
    "pycharm": {
     "name": "#%%\n"
    }
   }
  },
  {
   "cell_type": "code",
   "execution_count": null,
   "outputs": [],
   "source": [],
   "metadata": {
    "collapsed": false,
    "pycharm": {
     "name": "#%%\n"
    }
   }
  }
 ],
 "metadata": {
  "kernelspec": {
   "display_name": "Python 3",
   "language": "python",
   "name": "python3"
  },
  "language_info": {
   "codemirror_mode": {
    "name": "ipython",
    "version": 2
   },
   "file_extension": ".py",
   "mimetype": "text/x-python",
   "name": "python",
   "nbconvert_exporter": "python",
   "pygments_lexer": "ipython2",
   "version": "2.7.6"
  }
 },
 "nbformat": 4,
 "nbformat_minor": 0
}